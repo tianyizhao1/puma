{
 "cells": [
  {
   "cell_type": "code",
   "execution_count": 1,
   "metadata": {},
   "outputs": [],
   "source": [
    "import pandas as pd\n",
    "path = ''"
   ]
  },
  {
   "cell_type": "markdown",
   "metadata": {},
   "source": [
    "### Set Path"
   ]
  },
  {
   "cell_type": "code",
   "execution_count": 6,
   "metadata": {},
   "outputs": [],
   "source": [
    "dimstore_path = path+'DimStore.xlsx'\n",
    "store_rank = path+'StoreRanking.xlsx'\n",
    "transaction_his = path+'TransactionHistory (1).txt'\n",
    "zip_code = path+'us_zipcodes.xlsx'"
   ]
  },
  {
   "cell_type": "markdown",
   "metadata": {},
   "source": [
    "### Read excel file"
   ]
  },
  {
   "cell_type": "code",
   "execution_count": 7,
   "metadata": {},
   "outputs": [],
   "source": [
    "def read_xlsx(filepath):\n",
    "    fr = open(filepath,'rb')\n",
    "    df = pd.read_excel(fr)\n",
    "    fr.close()\n",
    "    return df"
   ]
  },
  {
   "cell_type": "code",
   "execution_count": 8,
   "metadata": {},
   "outputs": [],
   "source": [
    "dim_df = read_xlsx(dimstore_path)\n",
    "store_rank_df = read_xlsx(store_rank)\n",
    "zip_code_df = read_xlsx(zip_code)"
   ]
  },
  {
   "cell_type": "markdown",
   "metadata": {},
   "source": [
    "### Read txt file"
   ]
  },
  {
   "cell_type": "code",
   "execution_count": 9,
   "metadata": {},
   "outputs": [],
   "source": [
    "fr = open(transaction_his,'rb')\n",
    "str1_list = [str(line).replace(\"'\",'').replace('b\\\\xef\\\\xbb\\\\xbf','').replace('\\\\r\\\\n','').replace('\"','') for line in fr.readlines()]\n",
    "fr.close()\n",
    "str2_list = [x.split('\\\\t') for x in str1_list] \n",
    "transaction_his_df = pd.DataFrame(str2_list[1:])\n",
    "transaction_his_df.columns = str2_list[0]\n",
    "transaction_his_df['TheDate'] = [x.replace('b','') for x in transaction_his_df['TheDate']]\n"
   ]
  },
  {
   "cell_type": "markdown",
   "metadata": {},
   "source": [
    "### Relate each File-- Confirm the Merging logistic among datasets"
   ]
  },
  {
   "cell_type": "code",
   "execution_count": 10,
   "metadata": {},
   "outputs": [],
   "source": [
    "dim_df.columns\n",
    "###Delete'FTVolume', 'APVolume', 'ACVolume'\n",
    "dim_df.drop(['FTVolume', 'APVolume', 'ACVolume'],axis=1,inplace=True)\n"
   ]
  },
  {
   "cell_type": "code",
   "execution_count": 11,
   "metadata": {},
   "outputs": [],
   "source": [
    "#see channel\n",
    "result1 = dim_df[dim_df['Channel']=='Web']"
   ]
  },
  {
   "cell_type": "code",
   "execution_count": 13,
   "metadata": {},
   "outputs": [],
   "source": [
    "#write csv\n",
    "result1.to_csv('/Users/tianyizhao/Desktop/PUMA Dataset/channel_web.csv',index=0)"
   ]
  },
  {
   "cell_type": "code",
   "execution_count": 14,
   "metadata": {},
   "outputs": [
    {
     "data": {
      "text/html": [
       "<div>\n",
       "<style scoped>\n",
       "    .dataframe tbody tr th:only-of-type {\n",
       "        vertical-align: middle;\n",
       "    }\n",
       "\n",
       "    .dataframe tbody tr th {\n",
       "        vertical-align: top;\n",
       "    }\n",
       "\n",
       "    .dataframe thead th {\n",
       "        text-align: right;\n",
       "    }\n",
       "</style>\n",
       "<table border=\"1\" class=\"dataframe\">\n",
       "  <thead>\n",
       "    <tr style=\"text-align: right;\">\n",
       "      <th></th>\n",
       "      <th>InternationalStoreCode</th>\n",
       "      <th>NickName</th>\n",
       "      <th>ZipCode</th>\n",
       "      <th>CloseDt</th>\n",
       "      <th>Channel</th>\n",
       "      <th>RegionName</th>\n",
       "      <th>DistrictName</th>\n",
       "      <th>AreaName</th>\n",
       "      <th>TimeZone</th>\n",
       "      <th>LocationType</th>\n",
       "      <th>SellingSqFt</th>\n",
       "      <th>SimilarStore</th>\n",
       "    </tr>\n",
       "  </thead>\n",
       "  <tbody>\n",
       "    <tr>\n",
       "      <td>11</td>\n",
       "      <td>USW01</td>\n",
       "      <td>Puma.com</td>\n",
       "      <td>1886</td>\n",
       "      <td>20991231.0</td>\n",
       "      <td>Web</td>\n",
       "      <td>NaN</td>\n",
       "      <td>NaN</td>\n",
       "      <td>NaN</td>\n",
       "      <td>PST</td>\n",
       "      <td>Internet</td>\n",
       "      <td>NaN</td>\n",
       "      <td>NaN</td>\n",
       "    </tr>\n",
       "    <tr>\n",
       "      <td>70</td>\n",
       "      <td>USRE0004</td>\n",
       "      <td>EBay</td>\n",
       "      <td>NaN</td>\n",
       "      <td>20991231.0</td>\n",
       "      <td>Web</td>\n",
       "      <td>EAST</td>\n",
       "      <td>North East</td>\n",
       "      <td>NaN</td>\n",
       "      <td>CST</td>\n",
       "      <td>WHS</td>\n",
       "      <td>NaN</td>\n",
       "      <td>NaN</td>\n",
       "    </tr>\n",
       "    <tr>\n",
       "      <td>71</td>\n",
       "      <td>USRE0005</td>\n",
       "      <td>Jet.com</td>\n",
       "      <td>NaN</td>\n",
       "      <td>20991231.0</td>\n",
       "      <td>Web</td>\n",
       "      <td>EAST</td>\n",
       "      <td>North East</td>\n",
       "      <td>NaN</td>\n",
       "      <td>CST</td>\n",
       "      <td>WHS</td>\n",
       "      <td>NaN</td>\n",
       "      <td>NaN</td>\n",
       "    </tr>\n",
       "    <tr>\n",
       "      <td>72</td>\n",
       "      <td>USRE0006</td>\n",
       "      <td>Rakuten</td>\n",
       "      <td>NaN</td>\n",
       "      <td>20991231.0</td>\n",
       "      <td>Web</td>\n",
       "      <td>EAST</td>\n",
       "      <td>North East</td>\n",
       "      <td>NaN</td>\n",
       "      <td>CST</td>\n",
       "      <td>WHS</td>\n",
       "      <td>NaN</td>\n",
       "      <td>NaN</td>\n",
       "    </tr>\n",
       "    <tr>\n",
       "      <td>218</td>\n",
       "      <td>USW02</td>\n",
       "      <td>Tretorn.com</td>\n",
       "      <td>1886</td>\n",
       "      <td>20160210.0</td>\n",
       "      <td>Web</td>\n",
       "      <td>NaN</td>\n",
       "      <td>NaN</td>\n",
       "      <td>NaN</td>\n",
       "      <td>PST</td>\n",
       "      <td>Internet</td>\n",
       "      <td>NaN</td>\n",
       "      <td>NaN</td>\n",
       "    </tr>\n",
       "  </tbody>\n",
       "</table>\n",
       "</div>"
      ],
      "text/plain": [
       "    InternationalStoreCode     NickName ZipCode     CloseDt Channel  \\\n",
       "11                   USW01     Puma.com    1886  20991231.0     Web   \n",
       "70                USRE0004         EBay     NaN  20991231.0     Web   \n",
       "71                USRE0005      Jet.com     NaN  20991231.0     Web   \n",
       "72                USRE0006      Rakuten     NaN  20991231.0     Web   \n",
       "218                  USW02  Tretorn.com    1886  20160210.0     Web   \n",
       "\n",
       "    RegionName DistrictName AreaName TimeZone LocationType  SellingSqFt  \\\n",
       "11         NaN          NaN      NaN      PST     Internet          NaN   \n",
       "70        EAST   North East      NaN      CST          WHS          NaN   \n",
       "71        EAST   North East      NaN      CST          WHS          NaN   \n",
       "72        EAST   North East      NaN      CST          WHS          NaN   \n",
       "218        NaN          NaN      NaN      PST     Internet          NaN   \n",
       "\n",
       "    SimilarStore  \n",
       "11           NaN  \n",
       "70           NaN  \n",
       "71           NaN  \n",
       "72           NaN  \n",
       "218          NaN  "
      ]
     },
     "execution_count": 14,
     "metadata": {},
     "output_type": "execute_result"
    }
   ],
   "source": [
    "result1"
   ]
  },
  {
   "cell_type": "code",
   "execution_count": 15,
   "metadata": {},
   "outputs": [
    {
     "data": {
      "text/plain": [
       "0      Outlet\n",
       "11        Web\n",
       "14    Concept\n",
       "30        WHS\n",
       "32        NaN\n",
       "Name: Channel, dtype: object"
      ]
     },
     "execution_count": 15,
     "metadata": {},
     "output_type": "execute_result"
    }
   ],
   "source": [
    "dim_df['Channel'].drop_duplicates()"
   ]
  },
  {
   "cell_type": "code",
   "execution_count": 16,
   "metadata": {},
   "outputs": [
    {
     "data": {
      "text/plain": [
       "Index(['InternationalStoreCode', 'Rank'], dtype='object')"
      ]
     },
     "execution_count": 16,
     "metadata": {},
     "output_type": "execute_result"
    }
   ],
   "source": [
    "store_rank_df.columns"
   ]
  },
  {
   "cell_type": "code",
   "execution_count": 17,
   "metadata": {},
   "outputs": [
    {
     "data": {
      "text/plain": [
       "0       A\n",
       "19     AA\n",
       "28    AAA\n",
       "36      B\n",
       "70      C\n",
       "Name: Rank, dtype: object"
      ]
     },
     "execution_count": 17,
     "metadata": {},
     "output_type": "execute_result"
    }
   ],
   "source": [
    "store_rank_df['Rank'].drop_duplicates()"
   ]
  },
  {
   "cell_type": "code",
   "execution_count": 18,
   "metadata": {},
   "outputs": [
    {
     "data": {
      "text/plain": [
       "Index(['Type', 'ZipCode', 'PrimaryRecord', 'Population',\n",
       "       'HouseholdsPerZipcode', 'WhitePopulation', 'BlackPopulation',\n",
       "       'HispanicPopulation', 'AsianPopulation', 'HawaiianPopulation',\n",
       "       'IndianPopulation', 'OtherPopulation', 'MalePopulation',\n",
       "       'FemalePopulation', 'PersonsPerHousehold', 'AverageHouseValue',\n",
       "       'IncomePerHousehold', 'MedianAge', 'MedianAgeMale', 'MedianAgeFemale',\n",
       "       'Latitude', 'Longitude', 'Elevation', 'State', 'StateFullName',\n",
       "       'CityType', 'CityAliasAbbreviation', 'AreaCode', 'City',\n",
       "       'CityAliasName', 'County', 'CountyFIPS', 'StateFIPS', 'TimeZone',\n",
       "       'DayLightSaving', 'MSA', 'PMSA', 'CSA', 'CBSA', 'CBSA_DIV', 'CBSA_Type',\n",
       "       'CBSA_Name', 'MSA_Name', 'PMSA_Name', 'Region', 'Division',\n",
       "       'MailingName', 'NumberOfBusinesses', 'NumberOfEmployees',\n",
       "       'BusinessFirstQuarterPayroll', 'BusinessAnnualPayroll',\n",
       "       'BusinessEmploymentFlag', 'GrowthRank', 'GrowthHousingUnits2009',\n",
       "       'GrowthHousingUnits2010', 'GrowthIncreaseNumber',\n",
       "       'GrowthIncreasePercentage', 'CBSAPop2003', 'CBSADivPop2003',\n",
       "       'CongressionalDistrict', 'CongressionalLandArea', 'DeliveryResidential',\n",
       "       'DeliveryBusiness', 'DeliveryTotal', 'PreferredLastLineKey',\n",
       "       'ClassificationCode', 'MultiCounty', 'CSAName', 'CBSA_DIV_Name',\n",
       "       'CityStateKey', 'PopulationEstimate', 'LandArea', 'WaterArea',\n",
       "       'CityAliasCode', 'CityMixedCase', 'CityAliasMixedCase', 'BoxCount',\n",
       "       'SFDU', 'MFDU', 'StateANSI', 'CountyANSI', 'ZIPIntroDate',\n",
       "       'AliasIntroDate', 'FacilityCode', 'CityDeliveryIndicator',\n",
       "       'CarrierRouteRateSortation', 'FinanceNumber', 'UniqueZIPName'],\n",
       "      dtype='object')"
      ]
     },
     "execution_count": 18,
     "metadata": {},
     "output_type": "execute_result"
    }
   ],
   "source": [
    "zip_code_df.columns"
   ]
  },
  {
   "cell_type": "code",
   "execution_count": 19,
   "metadata": {},
   "outputs": [
    {
     "data": {
      "text/plain": [
       "Index(['TheDate', 'InternationalStoreCode', 'Transaction`Type',\n",
       "       'ShipToZipCode', 'Transactions'],\n",
       "      dtype='object')"
      ]
     },
     "execution_count": 19,
     "metadata": {},
     "output_type": "execute_result"
    }
   ],
   "source": [
    "transaction_his_df.columns"
   ]
  },
  {
   "cell_type": "code",
   "execution_count": 20,
   "metadata": {},
   "outputs": [],
   "source": [
    "df1 = pd.merge(store_rank_df,transaction_his_df,how='left',on='InternationalStoreCode')"
   ]
  },
  {
   "cell_type": "code",
   "execution_count": 21,
   "metadata": {},
   "outputs": [],
   "source": [
    "df2 = pd.merge(df1,dim_df,how='left',on='InternationalStoreCode')"
   ]
  },
  {
   "cell_type": "code",
   "execution_count": 23,
   "metadata": {},
   "outputs": [],
   "source": [
    "df3 = pd.merge(df2,zip_code_df,how='left',on='ZipCode')"
   ]
  },
  {
   "cell_type": "code",
   "execution_count": 24,
   "metadata": {},
   "outputs": [],
   "source": [
    "df4 = df3[(df3['Rank']=='AAA')|(df3['Rank']=='C')]"
   ]
  },
  {
   "cell_type": "code",
   "execution_count": 25,
   "metadata": {},
   "outputs": [
    {
     "data": {
      "text/plain": [
       "(2928904, 104)"
      ]
     },
     "execution_count": 25,
     "metadata": {},
     "output_type": "execute_result"
    }
   ],
   "source": [
    "df4.shape"
   ]
  },
  {
   "cell_type": "code",
   "execution_count": 26,
   "metadata": {},
   "outputs": [],
   "source": [
    "label = df4['Rank'].apply(lambda x: 1 if x=='AAA' else 0)"
   ]
  },
  {
   "cell_type": "code",
   "execution_count": 27,
   "metadata": {},
   "outputs": [
    {
     "name": "stderr",
     "output_type": "stream",
     "text": [
      "/Users/tianyizhao/opt/anaconda3/lib/python3.7/site-packages/pandas/core/frame.py:4102: SettingWithCopyWarning: \n",
      "A value is trying to be set on a copy of a slice from a DataFrame\n",
      "\n",
      "See the caveats in the documentation: http://pandas.pydata.org/pandas-docs/stable/user_guide/indexing.html#returning-a-view-versus-a-copy\n",
      "  errors=errors,\n"
     ]
    }
   ],
   "source": [
    "df4.drop(['Rank'],axis=1,inplace=True)"
   ]
  },
  {
   "cell_type": "code",
   "execution_count": 28,
   "metadata": {},
   "outputs": [
    {
     "name": "stderr",
     "output_type": "stream",
     "text": [
      "/Users/tianyizhao/opt/anaconda3/lib/python3.7/site-packages/ipykernel_launcher.py:1: SettingWithCopyWarning: \n",
      "A value is trying to be set on a copy of a slice from a DataFrame.\n",
      "Try using .loc[row_indexer,col_indexer] = value instead\n",
      "\n",
      "See the caveats in the documentation: http://pandas.pydata.org/pandas-docs/stable/user_guide/indexing.html#returning-a-view-versus-a-copy\n",
      "  \"\"\"Entry point for launching an IPython kernel.\n"
     ]
    }
   ],
   "source": [
    "df4['label'] = label"
   ]
  },
  {
   "cell_type": "code",
   "execution_count": 30,
   "metadata": {},
   "outputs": [],
   "source": [
    "df4.to_csv('/Users/tianyizhao/Desktop/PUMA Dataset/mid_result.csv',index=0)"
   ]
  },
  {
   "cell_type": "code",
   "execution_count": 36,
   "metadata": {},
   "outputs": [
    {
     "name": "stderr",
     "output_type": "stream",
     "text": [
      "/Users/tianyizhao/opt/anaconda3/lib/python3.7/site-packages/IPython/core/interactiveshell.py:3058: DtypeWarning: Columns (3,6,9,10,11,15,41,42,58,80,81,83) have mixed types. Specify dtype option on import or set low_memory=False.\n",
      "  interactivity=interactivity, compiler=compiler, result=result)\n"
     ]
    }
   ],
   "source": [
    "import pandas as pd\n",
    "fr = open('/Users/tianyizhao/Desktop/PUMA Dataset/mid_result.csv')\n",
    "df4 = pd.read_csv(fr)"
   ]
  },
  {
   "cell_type": "code",
   "execution_count": 37,
   "metadata": {},
   "outputs": [
    {
     "data": {
      "text/plain": [
       "Index(['InternationalStoreCode', 'TheDate', 'Transaction`Type',\n",
       "       'ShipToZipCode', 'Transactions', 'NickName', 'ZipCode', 'CloseDt',\n",
       "       'Channel', 'RegionName',\n",
       "       ...\n",
       "       'StateANSI', 'CountyANSI', 'ZIPIntroDate', 'AliasIntroDate',\n",
       "       'FacilityCode', 'CityDeliveryIndicator', 'CarrierRouteRateSortation',\n",
       "       'FinanceNumber', 'UniqueZIPName', 'label'],\n",
       "      dtype='object', length=104)"
      ]
     },
     "execution_count": 37,
     "metadata": {},
     "output_type": "execute_result"
    }
   ],
   "source": [
    "df4.columns"
   ]
  },
  {
   "cell_type": "code",
   "execution_count": null,
   "metadata": {},
   "outputs": [],
   "source": [
    "discrete_list = []\n",
    "continous_list = []\n",
    "for x in df4.columns:\n",
    "    if df4[x].dtypes=='object': \n",
    "        if len(df4[x].drop_duplicates())<=10:\n",
    "            discrete_list.append(x)\n",
    "    else:\n",
    "        continous_list.append(x)"
   ]
  },
  {
   "cell_type": "code",
   "execution_count": 39,
   "metadata": {},
   "outputs": [],
   "source": [
    "df5 = df4.copy()"
   ]
  },
  {
   "cell_type": "code",
   "execution_count": 40,
   "metadata": {},
   "outputs": [],
   "source": [
    "for x in discrete_list:\n",
    "    df5[x] = df5[x].fillna('unknown')"
   ]
  },
  {
   "cell_type": "code",
   "execution_count": 41,
   "metadata": {},
   "outputs": [
    {
     "name": "stdout",
     "output_type": "stream",
     "text": [
      "Transaction`Type\n",
      "0         Sale\n",
      "2       Return\n",
      "5859    unkown\n",
      "Name: Transaction`Type, dtype: object\n",
      "Channel\n",
      "0          Outlet\n",
      "5859      Concept\n",
      "122669        Web\n",
      "Name: Channel, dtype: object\n",
      "RegionName\n",
      "0           EAST\n",
      "2490        WEST\n",
      "122669    unkown\n",
      "Name: RegionName, dtype: object\n",
      "AreaName\n",
      "0                unkown\n",
      "11816        West Coast\n",
      "25043          Mid West\n",
      "53443     North Central\n",
      "55756     South Central\n",
      "77507        South East\n",
      "115304       North East\n",
      "Name: AreaName, dtype: object\n",
      "TimeZone_x\n",
      "0        EST\n",
      "2490     MST\n",
      "5075     PST\n",
      "18906    CST\n",
      "Name: TimeZone_x, dtype: object\n",
      "LocationType\n",
      "0             Mall\n",
      "5859        Street\n",
      "111944      unkown\n",
      "122669    Internet\n",
      "Name: LocationType, dtype: object\n",
      "PrimaryRecord\n",
      "0       unkown\n",
      "5075         P\n",
      "Name: PrimaryRecord, dtype: object\n",
      "CityType\n",
      "0         unkown\n",
      "5075           P\n",
      "11816          Z\n",
      "120826         B\n",
      "Name: CityType, dtype: object\n",
      "CityAliasAbbreviation\n",
      "0                unkown\n",
      "77507     WEST PALM BCH\n",
      "95645      ST AUGUSTINE\n",
      "120826    KNG OF PRUSSA\n",
      "121326        ESSEX JCT\n",
      "Name: CityAliasAbbreviation, dtype: object\n",
      "DayLightSaving\n",
      "0        unkown\n",
      "5075          Y\n",
      "60353         N\n",
      "Name: DayLightSaving, dtype: object\n",
      "CBSA_Type\n",
      "0        unkown\n",
      "5075      Metro\n",
      "32111     Micro\n",
      "Name: CBSA_Type, dtype: object\n",
      "Region\n",
      "0           unkown\n",
      "5075          West\n",
      "5669     Northeast\n",
      "16635        South\n",
      "18906      Midwest\n",
      "Name: Region, dtype: object\n",
      "Division\n",
      "0                    unkown\n",
      "5075                Pacific\n",
      "5669        Middle Atlantic\n",
      "16635        South Atlantic\n",
      "18906    West North Central\n",
      "23636           New England\n",
      "25043    East North Central\n",
      "34187    West South Central\n",
      "60353              Mountain\n",
      "75161    East South Central\n",
      "Name: Division, dtype: object\n",
      "MailingName\n",
      "0       unkown\n",
      "5075         Y\n",
      "Name: MailingName, dtype: object\n",
      "ClassificationCode\n",
      "0        unkown\n",
      "11816         P\n",
      "Name: ClassificationCode, dtype: object\n",
      "MultiCounty\n",
      "0        unkown\n",
      "16635         Y\n",
      "Name: MultiCounty, dtype: object\n",
      "ZIPIntroDate\n",
      "0                      unkown\n",
      "5075                 <2004-10\n",
      "108623    2007-06-01 00:00:00\n",
      "Name: ZIPIntroDate, dtype: object\n",
      "AliasIntroDate\n",
      "0                      unkown\n",
      "5075                 <2004-10\n",
      "108623    2007-06-01 00:00:00\n",
      "Name: AliasIntroDate, dtype: object\n",
      "FacilityCode\n",
      "0         unkown\n",
      "5075           P\n",
      "120826         B\n",
      "Name: FacilityCode, dtype: object\n",
      "CityDeliveryIndicator\n",
      "0        unkown\n",
      "5075          Y\n",
      "11816         N\n",
      "Name: CityDeliveryIndicator, dtype: object\n",
      "CarrierRouteRateSortation\n",
      "0        unkown\n",
      "5075          D\n",
      "11816         B\n",
      "16635         C\n",
      "Name: CarrierRouteRateSortation, dtype: object\n"
     ]
    }
   ],
   "source": [
    "for x in discrete_list:\n",
    "    print(x)\n",
    "    print(df5[x].drop_duplicates())"
   ]
  },
  {
   "cell_type": "code",
   "execution_count": 42,
   "metadata": {
    "scrolled": true
   },
   "outputs": [
    {
     "data": {
      "text/plain": [
       "['Transactions',\n",
       " 'CloseDt',\n",
       " 'SellingSqFt',\n",
       " 'Type',\n",
       " 'Population',\n",
       " 'HouseholdsPerZipcode',\n",
       " 'WhitePopulation',\n",
       " 'BlackPopulation',\n",
       " 'HispanicPopulation',\n",
       " 'AsianPopulation',\n",
       " 'HawaiianPopulation',\n",
       " 'IndianPopulation',\n",
       " 'OtherPopulation',\n",
       " 'MalePopulation',\n",
       " 'FemalePopulation',\n",
       " 'PersonsPerHousehold',\n",
       " 'AverageHouseValue',\n",
       " 'IncomePerHousehold',\n",
       " 'MedianAge',\n",
       " 'MedianAgeMale',\n",
       " 'MedianAgeFemale',\n",
       " 'Latitude',\n",
       " 'Longitude',\n",
       " 'Elevation',\n",
       " 'CountyFIPS',\n",
       " 'StateFIPS',\n",
       " 'TimeZone_y',\n",
       " 'MSA',\n",
       " 'PMSA',\n",
       " 'CSA',\n",
       " 'CBSA',\n",
       " 'CBSA_DIV',\n",
       " 'NumberOfBusinesses',\n",
       " 'NumberOfEmployees',\n",
       " 'BusinessFirstQuarterPayroll',\n",
       " 'BusinessAnnualPayroll',\n",
       " 'BusinessEmploymentFlag',\n",
       " 'GrowthRank',\n",
       " 'GrowthHousingUnits2009',\n",
       " 'GrowthHousingUnits2010',\n",
       " 'GrowthIncreaseNumber',\n",
       " 'GrowthIncreasePercentage',\n",
       " 'CBSAPop2003',\n",
       " 'CBSADivPop2003',\n",
       " 'DeliveryResidential',\n",
       " 'DeliveryBusiness',\n",
       " 'DeliveryTotal',\n",
       " 'PopulationEstimate',\n",
       " 'LandArea',\n",
       " 'WaterArea',\n",
       " 'CityAliasCode',\n",
       " 'BoxCount',\n",
       " 'SFDU',\n",
       " 'MFDU',\n",
       " 'StateANSI',\n",
       " 'CountyANSI',\n",
       " 'FinanceNumber',\n",
       " 'UniqueZIPName',\n",
       " 'label']"
      ]
     },
     "execution_count": 42,
     "metadata": {},
     "output_type": "execute_result"
    }
   ],
   "source": [
    "continous_list"
   ]
  },
  {
   "cell_type": "code",
   "execution_count": 43,
   "metadata": {},
   "outputs": [],
   "source": [
    "stat1 = df4[continous_list].apply(lambda x:sum(x.isnull()==False)/len(x))\n",
    "k1 = pd.DataFrame({'name':list(stat1.index),'value':stat1})"
   ]
  },
  {
   "cell_type": "code",
   "execution_count": 44,
   "metadata": {
    "scrolled": true
   },
   "outputs": [
    {
     "data": {
      "text/html": [
       "<div>\n",
       "<style scoped>\n",
       "    .dataframe tbody tr th:only-of-type {\n",
       "        vertical-align: middle;\n",
       "    }\n",
       "\n",
       "    .dataframe tbody tr th {\n",
       "        vertical-align: top;\n",
       "    }\n",
       "\n",
       "    .dataframe thead th {\n",
       "        text-align: right;\n",
       "    }\n",
       "</style>\n",
       "<table border=\"1\" class=\"dataframe\">\n",
       "  <thead>\n",
       "    <tr style=\"text-align: right;\">\n",
       "      <th></th>\n",
       "      <th>name</th>\n",
       "      <th>value</th>\n",
       "    </tr>\n",
       "  </thead>\n",
       "  <tbody>\n",
       "    <tr>\n",
       "      <td>label</td>\n",
       "      <td>label</td>\n",
       "      <td>1.000000</td>\n",
       "    </tr>\n",
       "    <tr>\n",
       "      <td>Transactions</td>\n",
       "      <td>Transactions</td>\n",
       "      <td>0.999998</td>\n",
       "    </tr>\n",
       "    <tr>\n",
       "      <td>CloseDt</td>\n",
       "      <td>CloseDt</td>\n",
       "      <td>0.999542</td>\n",
       "    </tr>\n",
       "    <tr>\n",
       "      <td>CBSA</td>\n",
       "      <td>CBSA</td>\n",
       "      <td>0.993979</td>\n",
       "    </tr>\n",
       "    <tr>\n",
       "      <td>PopulationEstimate</td>\n",
       "      <td>PopulationEstimate</td>\n",
       "      <td>0.993979</td>\n",
       "    </tr>\n",
       "    <tr>\n",
       "      <td>TimeZone_y</td>\n",
       "      <td>TimeZone_y</td>\n",
       "      <td>0.993979</td>\n",
       "    </tr>\n",
       "    <tr>\n",
       "      <td>FinanceNumber</td>\n",
       "      <td>FinanceNumber</td>\n",
       "      <td>0.993979</td>\n",
       "    </tr>\n",
       "    <tr>\n",
       "      <td>CountyANSI</td>\n",
       "      <td>CountyANSI</td>\n",
       "      <td>0.993979</td>\n",
       "    </tr>\n",
       "    <tr>\n",
       "      <td>StateANSI</td>\n",
       "      <td>StateANSI</td>\n",
       "      <td>0.993979</td>\n",
       "    </tr>\n",
       "    <tr>\n",
       "      <td>NumberOfBusinesses</td>\n",
       "      <td>NumberOfBusinesses</td>\n",
       "      <td>0.993979</td>\n",
       "    </tr>\n",
       "    <tr>\n",
       "      <td>NumberOfEmployees</td>\n",
       "      <td>NumberOfEmployees</td>\n",
       "      <td>0.993979</td>\n",
       "    </tr>\n",
       "    <tr>\n",
       "      <td>BusinessFirstQuarterPayroll</td>\n",
       "      <td>BusinessFirstQuarterPayroll</td>\n",
       "      <td>0.993979</td>\n",
       "    </tr>\n",
       "    <tr>\n",
       "      <td>BusinessAnnualPayroll</td>\n",
       "      <td>BusinessAnnualPayroll</td>\n",
       "      <td>0.993979</td>\n",
       "    </tr>\n",
       "    <tr>\n",
       "      <td>MFDU</td>\n",
       "      <td>MFDU</td>\n",
       "      <td>0.993979</td>\n",
       "    </tr>\n",
       "    <tr>\n",
       "      <td>GrowthRank</td>\n",
       "      <td>GrowthRank</td>\n",
       "      <td>0.993979</td>\n",
       "    </tr>\n",
       "    <tr>\n",
       "      <td>SFDU</td>\n",
       "      <td>SFDU</td>\n",
       "      <td>0.993979</td>\n",
       "    </tr>\n",
       "    <tr>\n",
       "      <td>BoxCount</td>\n",
       "      <td>BoxCount</td>\n",
       "      <td>0.993979</td>\n",
       "    </tr>\n",
       "    <tr>\n",
       "      <td>GrowthIncreaseNumber</td>\n",
       "      <td>GrowthIncreaseNumber</td>\n",
       "      <td>0.993979</td>\n",
       "    </tr>\n",
       "    <tr>\n",
       "      <td>GrowthIncreasePercentage</td>\n",
       "      <td>GrowthIncreasePercentage</td>\n",
       "      <td>0.993979</td>\n",
       "    </tr>\n",
       "    <tr>\n",
       "      <td>WaterArea</td>\n",
       "      <td>WaterArea</td>\n",
       "      <td>0.993979</td>\n",
       "    </tr>\n",
       "    <tr>\n",
       "      <td>LandArea</td>\n",
       "      <td>LandArea</td>\n",
       "      <td>0.993979</td>\n",
       "    </tr>\n",
       "    <tr>\n",
       "      <td>DeliveryResidential</td>\n",
       "      <td>DeliveryResidential</td>\n",
       "      <td>0.993979</td>\n",
       "    </tr>\n",
       "    <tr>\n",
       "      <td>DeliveryBusiness</td>\n",
       "      <td>DeliveryBusiness</td>\n",
       "      <td>0.993979</td>\n",
       "    </tr>\n",
       "    <tr>\n",
       "      <td>StateFIPS</td>\n",
       "      <td>StateFIPS</td>\n",
       "      <td>0.993979</td>\n",
       "    </tr>\n",
       "    <tr>\n",
       "      <td>CountyFIPS</td>\n",
       "      <td>CountyFIPS</td>\n",
       "      <td>0.993979</td>\n",
       "    </tr>\n",
       "    <tr>\n",
       "      <td>Elevation</td>\n",
       "      <td>Elevation</td>\n",
       "      <td>0.993979</td>\n",
       "    </tr>\n",
       "    <tr>\n",
       "      <td>Longitude</td>\n",
       "      <td>Longitude</td>\n",
       "      <td>0.993979</td>\n",
       "    </tr>\n",
       "    <tr>\n",
       "      <td>Population</td>\n",
       "      <td>Population</td>\n",
       "      <td>0.993979</td>\n",
       "    </tr>\n",
       "    <tr>\n",
       "      <td>HouseholdsPerZipcode</td>\n",
       "      <td>HouseholdsPerZipcode</td>\n",
       "      <td>0.993979</td>\n",
       "    </tr>\n",
       "    <tr>\n",
       "      <td>WhitePopulation</td>\n",
       "      <td>WhitePopulation</td>\n",
       "      <td>0.993979</td>\n",
       "    </tr>\n",
       "    <tr>\n",
       "      <td>BlackPopulation</td>\n",
       "      <td>BlackPopulation</td>\n",
       "      <td>0.993979</td>\n",
       "    </tr>\n",
       "    <tr>\n",
       "      <td>HispanicPopulation</td>\n",
       "      <td>HispanicPopulation</td>\n",
       "      <td>0.993979</td>\n",
       "    </tr>\n",
       "    <tr>\n",
       "      <td>AsianPopulation</td>\n",
       "      <td>AsianPopulation</td>\n",
       "      <td>0.993979</td>\n",
       "    </tr>\n",
       "    <tr>\n",
       "      <td>HawaiianPopulation</td>\n",
       "      <td>HawaiianPopulation</td>\n",
       "      <td>0.993979</td>\n",
       "    </tr>\n",
       "    <tr>\n",
       "      <td>IndianPopulation</td>\n",
       "      <td>IndianPopulation</td>\n",
       "      <td>0.993979</td>\n",
       "    </tr>\n",
       "    <tr>\n",
       "      <td>OtherPopulation</td>\n",
       "      <td>OtherPopulation</td>\n",
       "      <td>0.993979</td>\n",
       "    </tr>\n",
       "    <tr>\n",
       "      <td>MalePopulation</td>\n",
       "      <td>MalePopulation</td>\n",
       "      <td>0.993979</td>\n",
       "    </tr>\n",
       "    <tr>\n",
       "      <td>FemalePopulation</td>\n",
       "      <td>FemalePopulation</td>\n",
       "      <td>0.993979</td>\n",
       "    </tr>\n",
       "    <tr>\n",
       "      <td>PersonsPerHousehold</td>\n",
       "      <td>PersonsPerHousehold</td>\n",
       "      <td>0.993979</td>\n",
       "    </tr>\n",
       "    <tr>\n",
       "      <td>AverageHouseValue</td>\n",
       "      <td>AverageHouseValue</td>\n",
       "      <td>0.993979</td>\n",
       "    </tr>\n",
       "    <tr>\n",
       "      <td>IncomePerHousehold</td>\n",
       "      <td>IncomePerHousehold</td>\n",
       "      <td>0.993979</td>\n",
       "    </tr>\n",
       "    <tr>\n",
       "      <td>MedianAge</td>\n",
       "      <td>MedianAge</td>\n",
       "      <td>0.993979</td>\n",
       "    </tr>\n",
       "    <tr>\n",
       "      <td>MedianAgeMale</td>\n",
       "      <td>MedianAgeMale</td>\n",
       "      <td>0.993979</td>\n",
       "    </tr>\n",
       "    <tr>\n",
       "      <td>MedianAgeFemale</td>\n",
       "      <td>MedianAgeFemale</td>\n",
       "      <td>0.993979</td>\n",
       "    </tr>\n",
       "    <tr>\n",
       "      <td>Latitude</td>\n",
       "      <td>Latitude</td>\n",
       "      <td>0.993979</td>\n",
       "    </tr>\n",
       "    <tr>\n",
       "      <td>DeliveryTotal</td>\n",
       "      <td>DeliveryTotal</td>\n",
       "      <td>0.993979</td>\n",
       "    </tr>\n",
       "    <tr>\n",
       "      <td>MSA</td>\n",
       "      <td>MSA</td>\n",
       "      <td>0.989915</td>\n",
       "    </tr>\n",
       "    <tr>\n",
       "      <td>CSA</td>\n",
       "      <td>CSA</td>\n",
       "      <td>0.988235</td>\n",
       "    </tr>\n",
       "    <tr>\n",
       "      <td>PMSA</td>\n",
       "      <td>PMSA</td>\n",
       "      <td>0.974238</td>\n",
       "    </tr>\n",
       "    <tr>\n",
       "      <td>CBSA_DIV</td>\n",
       "      <td>CBSA_DIV</td>\n",
       "      <td>0.970268</td>\n",
       "    </tr>\n",
       "    <tr>\n",
       "      <td>SellingSqFt</td>\n",
       "      <td>SellingSqFt</td>\n",
       "      <td>0.039113</td>\n",
       "    </tr>\n",
       "    <tr>\n",
       "      <td>CBSADivPop2003</td>\n",
       "      <td>CBSADivPop2003</td>\n",
       "      <td>0.000000</td>\n",
       "    </tr>\n",
       "    <tr>\n",
       "      <td>CBSAPop2003</td>\n",
       "      <td>CBSAPop2003</td>\n",
       "      <td>0.000000</td>\n",
       "    </tr>\n",
       "    <tr>\n",
       "      <td>CityAliasCode</td>\n",
       "      <td>CityAliasCode</td>\n",
       "      <td>0.000000</td>\n",
       "    </tr>\n",
       "    <tr>\n",
       "      <td>GrowthHousingUnits2010</td>\n",
       "      <td>GrowthHousingUnits2010</td>\n",
       "      <td>0.000000</td>\n",
       "    </tr>\n",
       "    <tr>\n",
       "      <td>GrowthHousingUnits2009</td>\n",
       "      <td>GrowthHousingUnits2009</td>\n",
       "      <td>0.000000</td>\n",
       "    </tr>\n",
       "    <tr>\n",
       "      <td>BusinessEmploymentFlag</td>\n",
       "      <td>BusinessEmploymentFlag</td>\n",
       "      <td>0.000000</td>\n",
       "    </tr>\n",
       "    <tr>\n",
       "      <td>Type</td>\n",
       "      <td>Type</td>\n",
       "      <td>0.000000</td>\n",
       "    </tr>\n",
       "    <tr>\n",
       "      <td>UniqueZIPName</td>\n",
       "      <td>UniqueZIPName</td>\n",
       "      <td>0.000000</td>\n",
       "    </tr>\n",
       "  </tbody>\n",
       "</table>\n",
       "</div>"
      ],
      "text/plain": [
       "                                                    name     value\n",
       "label                                              label  1.000000\n",
       "Transactions                                Transactions  0.999998\n",
       "CloseDt                                          CloseDt  0.999542\n",
       "CBSA                                                CBSA  0.993979\n",
       "PopulationEstimate                    PopulationEstimate  0.993979\n",
       "TimeZone_y                                    TimeZone_y  0.993979\n",
       "FinanceNumber                              FinanceNumber  0.993979\n",
       "CountyANSI                                    CountyANSI  0.993979\n",
       "StateANSI                                      StateANSI  0.993979\n",
       "NumberOfBusinesses                    NumberOfBusinesses  0.993979\n",
       "NumberOfEmployees                      NumberOfEmployees  0.993979\n",
       "BusinessFirstQuarterPayroll  BusinessFirstQuarterPayroll  0.993979\n",
       "BusinessAnnualPayroll              BusinessAnnualPayroll  0.993979\n",
       "MFDU                                                MFDU  0.993979\n",
       "GrowthRank                                    GrowthRank  0.993979\n",
       "SFDU                                                SFDU  0.993979\n",
       "BoxCount                                        BoxCount  0.993979\n",
       "GrowthIncreaseNumber                GrowthIncreaseNumber  0.993979\n",
       "GrowthIncreasePercentage        GrowthIncreasePercentage  0.993979\n",
       "WaterArea                                      WaterArea  0.993979\n",
       "LandArea                                        LandArea  0.993979\n",
       "DeliveryResidential                  DeliveryResidential  0.993979\n",
       "DeliveryBusiness                        DeliveryBusiness  0.993979\n",
       "StateFIPS                                      StateFIPS  0.993979\n",
       "CountyFIPS                                    CountyFIPS  0.993979\n",
       "Elevation                                      Elevation  0.993979\n",
       "Longitude                                      Longitude  0.993979\n",
       "Population                                    Population  0.993979\n",
       "HouseholdsPerZipcode                HouseholdsPerZipcode  0.993979\n",
       "WhitePopulation                          WhitePopulation  0.993979\n",
       "BlackPopulation                          BlackPopulation  0.993979\n",
       "HispanicPopulation                    HispanicPopulation  0.993979\n",
       "AsianPopulation                          AsianPopulation  0.993979\n",
       "HawaiianPopulation                    HawaiianPopulation  0.993979\n",
       "IndianPopulation                        IndianPopulation  0.993979\n",
       "OtherPopulation                          OtherPopulation  0.993979\n",
       "MalePopulation                            MalePopulation  0.993979\n",
       "FemalePopulation                        FemalePopulation  0.993979\n",
       "PersonsPerHousehold                  PersonsPerHousehold  0.993979\n",
       "AverageHouseValue                      AverageHouseValue  0.993979\n",
       "IncomePerHousehold                    IncomePerHousehold  0.993979\n",
       "MedianAge                                      MedianAge  0.993979\n",
       "MedianAgeMale                              MedianAgeMale  0.993979\n",
       "MedianAgeFemale                          MedianAgeFemale  0.993979\n",
       "Latitude                                        Latitude  0.993979\n",
       "DeliveryTotal                              DeliveryTotal  0.993979\n",
       "MSA                                                  MSA  0.989915\n",
       "CSA                                                  CSA  0.988235\n",
       "PMSA                                                PMSA  0.974238\n",
       "CBSA_DIV                                        CBSA_DIV  0.970268\n",
       "SellingSqFt                                  SellingSqFt  0.039113\n",
       "CBSADivPop2003                            CBSADivPop2003  0.000000\n",
       "CBSAPop2003                                  CBSAPop2003  0.000000\n",
       "CityAliasCode                              CityAliasCode  0.000000\n",
       "GrowthHousingUnits2010            GrowthHousingUnits2010  0.000000\n",
       "GrowthHousingUnits2009            GrowthHousingUnits2009  0.000000\n",
       "BusinessEmploymentFlag            BusinessEmploymentFlag  0.000000\n",
       "Type                                                Type  0.000000\n",
       "UniqueZIPName                              UniqueZIPName  0.000000"
      ]
     },
     "execution_count": 44,
     "metadata": {},
     "output_type": "execute_result"
    }
   ],
   "source": [
    "k1.sort_values(by='value',ascending=False)"
   ]
  },
  {
   "cell_type": "code",
   "execution_count": 45,
   "metadata": {},
   "outputs": [],
   "source": [
    "keep_continuous = list(k1[k1['value']>0.9]['name'])"
   ]
  },
  {
   "cell_type": "code",
   "execution_count": 46,
   "metadata": {},
   "outputs": [],
   "source": [
    "drop1 = list(k1[k1['value']<0.9]['name'])"
   ]
  },
  {
   "cell_type": "code",
   "execution_count": 47,
   "metadata": {},
   "outputs": [
    {
     "data": {
      "text/plain": [
       "['SellingSqFt',\n",
       " 'Type',\n",
       " 'BusinessEmploymentFlag',\n",
       " 'GrowthHousingUnits2009',\n",
       " 'GrowthHousingUnits2010',\n",
       " 'CBSAPop2003',\n",
       " 'CBSADivPop2003',\n",
       " 'CityAliasCode',\n",
       " 'UniqueZIPName']"
      ]
     },
     "execution_count": 47,
     "metadata": {},
     "output_type": "execute_result"
    }
   ],
   "source": [
    "drop1"
   ]
  },
  {
   "cell_type": "code",
   "execution_count": 48,
   "metadata": {
    "scrolled": true
   },
   "outputs": [
    {
     "data": {
      "text/plain": [
       "['Transactions',\n",
       " 'CloseDt',\n",
       " 'Population',\n",
       " 'HouseholdsPerZipcode',\n",
       " 'WhitePopulation',\n",
       " 'BlackPopulation',\n",
       " 'HispanicPopulation',\n",
       " 'AsianPopulation',\n",
       " 'HawaiianPopulation',\n",
       " 'IndianPopulation',\n",
       " 'OtherPopulation',\n",
       " 'MalePopulation',\n",
       " 'FemalePopulation',\n",
       " 'PersonsPerHousehold',\n",
       " 'AverageHouseValue',\n",
       " 'IncomePerHousehold',\n",
       " 'MedianAge',\n",
       " 'MedianAgeMale',\n",
       " 'MedianAgeFemale',\n",
       " 'Latitude',\n",
       " 'Longitude',\n",
       " 'Elevation',\n",
       " 'CountyFIPS',\n",
       " 'StateFIPS',\n",
       " 'TimeZone_y',\n",
       " 'MSA',\n",
       " 'PMSA',\n",
       " 'CSA',\n",
       " 'CBSA',\n",
       " 'CBSA_DIV',\n",
       " 'NumberOfBusinesses',\n",
       " 'NumberOfEmployees',\n",
       " 'BusinessFirstQuarterPayroll',\n",
       " 'BusinessAnnualPayroll',\n",
       " 'GrowthRank',\n",
       " 'GrowthIncreaseNumber',\n",
       " 'GrowthIncreasePercentage',\n",
       " 'DeliveryResidential',\n",
       " 'DeliveryBusiness',\n",
       " 'DeliveryTotal',\n",
       " 'PopulationEstimate',\n",
       " 'LandArea',\n",
       " 'WaterArea',\n",
       " 'BoxCount',\n",
       " 'SFDU',\n",
       " 'MFDU',\n",
       " 'StateANSI',\n",
       " 'CountyANSI',\n",
       " 'FinanceNumber',\n",
       " 'label']"
      ]
     },
     "execution_count": 48,
     "metadata": {},
     "output_type": "execute_result"
    }
   ],
   "source": [
    "keep_continuous"
   ]
  },
  {
   "cell_type": "code",
   "execution_count": 49,
   "metadata": {},
   "outputs": [],
   "source": [
    "df5.drop(drop1,axis=1,inplace=True)\n",
    "for x in keep_continuous:\n",
    "    df5[x] = df5[x].fillna(-1)"
   ]
  },
  {
   "cell_type": "code",
   "execution_count": 50,
   "metadata": {},
   "outputs": [],
   "source": [
    "df5.to_csv('/Users/tianyizhao/Desktop/PUMA Dataset/mid_result1.csv',index=0)"
   ]
  },
  {
   "cell_type": "code",
   "execution_count": null,
   "metadata": {},
   "outputs": [],
   "source": []
  }
 ],
 "metadata": {
  "kernelspec": {
   "display_name": "Python 3",
   "language": "python",
   "name": "python3"
  },
  "language_info": {
   "codemirror_mode": {
    "name": "ipython",
    "version": 3
   },
   "file_extension": ".py",
   "mimetype": "text/x-python",
   "name": "python",
   "nbconvert_exporter": "python",
   "pygments_lexer": "ipython3",
   "version": "3.7.4"
  }
 },
 "nbformat": 4,
 "nbformat_minor": 2
}
