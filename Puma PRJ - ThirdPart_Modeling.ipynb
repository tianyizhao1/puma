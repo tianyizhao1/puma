{
 "cells": [
  {
   "cell_type": "code",
   "execution_count": 1,
   "metadata": {},
   "outputs": [],
   "source": [
    "import pandas as pd\n",
    "fr =open('/Users/tianyizhao/Desktop/PUMA Dataset/Final Data.csv','rb')\n",
    "df = pd.read_csv(fr)"
   ]
  },
  {
   "cell_type": "code",
   "execution_count": 2,
   "metadata": {},
   "outputs": [
    {
     "data": {
      "text/html": [
       "<div>\n",
       "<style scoped>\n",
       "    .dataframe tbody tr th:only-of-type {\n",
       "        vertical-align: middle;\n",
       "    }\n",
       "\n",
       "    .dataframe tbody tr th {\n",
       "        vertical-align: top;\n",
       "    }\n",
       "\n",
       "    .dataframe thead th {\n",
       "        text-align: right;\n",
       "    }\n",
       "</style>\n",
       "<table border=\"1\" class=\"dataframe\">\n",
       "  <thead>\n",
       "    <tr style=\"text-align: right;\">\n",
       "      <th></th>\n",
       "      <th>Division</th>\n",
       "      <th>CarrierRouteRateSortation</th>\n",
       "      <th>CityDeliveryIndicator</th>\n",
       "      <th>LocationType</th>\n",
       "      <th>Channel</th>\n",
       "      <th>Region</th>\n",
       "      <th>LandArea</th>\n",
       "      <th>PersonsPerHousehold</th>\n",
       "      <th>WaterArea</th>\n",
       "      <th>BoxCount</th>\n",
       "      <th>...</th>\n",
       "      <th>DayLightSaving</th>\n",
       "      <th>CityType</th>\n",
       "      <th>CBSA_Type</th>\n",
       "      <th>AliasIntroDate</th>\n",
       "      <th>ZIPIntroDate</th>\n",
       "      <th>FacilityCode</th>\n",
       "      <th>MailingName</th>\n",
       "      <th>PrimaryRecord</th>\n",
       "      <th>Transaction`Type</th>\n",
       "      <th>label</th>\n",
       "    </tr>\n",
       "  </thead>\n",
       "  <tbody>\n",
       "    <tr>\n",
       "      <td>0</td>\n",
       "      <td>-unknown</td>\n",
       "      <td>-unknown</td>\n",
       "      <td>-unknown</td>\n",
       "      <td>Mall</td>\n",
       "      <td>Outlet</td>\n",
       "      <td>-unknown</td>\n",
       "      <td>(-2.0, -1.0]</td>\n",
       "      <td>(-2.0, -1.0]</td>\n",
       "      <td>(-2.0, -1.0]</td>\n",
       "      <td>(-2, -1]</td>\n",
       "      <td>...</td>\n",
       "      <td>-unknown</td>\n",
       "      <td>-unknown</td>\n",
       "      <td>-unknown</td>\n",
       "      <td>-unknown</td>\n",
       "      <td>-unknown</td>\n",
       "      <td>-unknown</td>\n",
       "      <td>-unknown</td>\n",
       "      <td>-unknown</td>\n",
       "      <td>Sale</td>\n",
       "      <td>1</td>\n",
       "    </tr>\n",
       "    <tr>\n",
       "      <td>1</td>\n",
       "      <td>-unknown</td>\n",
       "      <td>-unknown</td>\n",
       "      <td>-unknown</td>\n",
       "      <td>Mall</td>\n",
       "      <td>Outlet</td>\n",
       "      <td>-unknown</td>\n",
       "      <td>(-2.0, -1.0]</td>\n",
       "      <td>(-2.0, -1.0]</td>\n",
       "      <td>(-2.0, -1.0]</td>\n",
       "      <td>(-2, -1]</td>\n",
       "      <td>...</td>\n",
       "      <td>-unknown</td>\n",
       "      <td>-unknown</td>\n",
       "      <td>-unknown</td>\n",
       "      <td>-unknown</td>\n",
       "      <td>-unknown</td>\n",
       "      <td>-unknown</td>\n",
       "      <td>-unknown</td>\n",
       "      <td>-unknown</td>\n",
       "      <td>Sale</td>\n",
       "      <td>1</td>\n",
       "    </tr>\n",
       "    <tr>\n",
       "      <td>2</td>\n",
       "      <td>-unknown</td>\n",
       "      <td>-unknown</td>\n",
       "      <td>-unknown</td>\n",
       "      <td>Mall</td>\n",
       "      <td>Outlet</td>\n",
       "      <td>-unknown</td>\n",
       "      <td>(-2.0, -1.0]</td>\n",
       "      <td>(-2.0, -1.0]</td>\n",
       "      <td>(-2.0, -1.0]</td>\n",
       "      <td>(-2, -1]</td>\n",
       "      <td>...</td>\n",
       "      <td>-unknown</td>\n",
       "      <td>-unknown</td>\n",
       "      <td>-unknown</td>\n",
       "      <td>-unknown</td>\n",
       "      <td>-unknown</td>\n",
       "      <td>-unknown</td>\n",
       "      <td>-unknown</td>\n",
       "      <td>-unknown</td>\n",
       "      <td>Return</td>\n",
       "      <td>1</td>\n",
       "    </tr>\n",
       "    <tr>\n",
       "      <td>3</td>\n",
       "      <td>-unknown</td>\n",
       "      <td>-unknown</td>\n",
       "      <td>-unknown</td>\n",
       "      <td>Mall</td>\n",
       "      <td>Outlet</td>\n",
       "      <td>-unknown</td>\n",
       "      <td>(-2.0, -1.0]</td>\n",
       "      <td>(-2.0, -1.0]</td>\n",
       "      <td>(-2.0, -1.0]</td>\n",
       "      <td>(-2, -1]</td>\n",
       "      <td>...</td>\n",
       "      <td>-unknown</td>\n",
       "      <td>-unknown</td>\n",
       "      <td>-unknown</td>\n",
       "      <td>-unknown</td>\n",
       "      <td>-unknown</td>\n",
       "      <td>-unknown</td>\n",
       "      <td>-unknown</td>\n",
       "      <td>-unknown</td>\n",
       "      <td>Return</td>\n",
       "      <td>1</td>\n",
       "    </tr>\n",
       "    <tr>\n",
       "      <td>4</td>\n",
       "      <td>-unknown</td>\n",
       "      <td>-unknown</td>\n",
       "      <td>-unknown</td>\n",
       "      <td>Mall</td>\n",
       "      <td>Outlet</td>\n",
       "      <td>-unknown</td>\n",
       "      <td>(-2.0, -1.0]</td>\n",
       "      <td>(-2.0, -1.0]</td>\n",
       "      <td>(-2.0, -1.0]</td>\n",
       "      <td>(-2, -1]</td>\n",
       "      <td>...</td>\n",
       "      <td>-unknown</td>\n",
       "      <td>-unknown</td>\n",
       "      <td>-unknown</td>\n",
       "      <td>-unknown</td>\n",
       "      <td>-unknown</td>\n",
       "      <td>-unknown</td>\n",
       "      <td>-unknown</td>\n",
       "      <td>-unknown</td>\n",
       "      <td>Return</td>\n",
       "      <td>1</td>\n",
       "    </tr>\n",
       "  </tbody>\n",
       "</table>\n",
       "<p>5 rows × 23 columns</p>\n",
       "</div>"
      ],
      "text/plain": [
       "   Division CarrierRouteRateSortation CityDeliveryIndicator LocationType  \\\n",
       "0  -unknown                  -unknown              -unknown         Mall   \n",
       "1  -unknown                  -unknown              -unknown         Mall   \n",
       "2  -unknown                  -unknown              -unknown         Mall   \n",
       "3  -unknown                  -unknown              -unknown         Mall   \n",
       "4  -unknown                  -unknown              -unknown         Mall   \n",
       "\n",
       "  Channel    Region      LandArea PersonsPerHousehold     WaterArea  BoxCount  \\\n",
       "0  Outlet  -unknown  (-2.0, -1.0]        (-2.0, -1.0]  (-2.0, -1.0]  (-2, -1]   \n",
       "1  Outlet  -unknown  (-2.0, -1.0]        (-2.0, -1.0]  (-2.0, -1.0]  (-2, -1]   \n",
       "2  Outlet  -unknown  (-2.0, -1.0]        (-2.0, -1.0]  (-2.0, -1.0]  (-2, -1]   \n",
       "3  Outlet  -unknown  (-2.0, -1.0]        (-2.0, -1.0]  (-2.0, -1.0]  (-2, -1]   \n",
       "4  Outlet  -unknown  (-2.0, -1.0]        (-2.0, -1.0]  (-2.0, -1.0]  (-2, -1]   \n",
       "\n",
       "   ... DayLightSaving  CityType CBSA_Type AliasIntroDate ZIPIntroDate  \\\n",
       "0  ...       -unknown  -unknown  -unknown       -unknown     -unknown   \n",
       "1  ...       -unknown  -unknown  -unknown       -unknown     -unknown   \n",
       "2  ...       -unknown  -unknown  -unknown       -unknown     -unknown   \n",
       "3  ...       -unknown  -unknown  -unknown       -unknown     -unknown   \n",
       "4  ...       -unknown  -unknown  -unknown       -unknown     -unknown   \n",
       "\n",
       "  FacilityCode MailingName PrimaryRecord Transaction`Type label  \n",
       "0     -unknown    -unknown      -unknown             Sale     1  \n",
       "1     -unknown    -unknown      -unknown             Sale     1  \n",
       "2     -unknown    -unknown      -unknown           Return     1  \n",
       "3     -unknown    -unknown      -unknown           Return     1  \n",
       "4     -unknown    -unknown      -unknown           Return     1  \n",
       "\n",
       "[5 rows x 23 columns]"
      ]
     },
     "execution_count": 2,
     "metadata": {},
     "output_type": "execute_result"
    }
   ],
   "source": [
    "df.head()"
   ]
  },
  {
   "cell_type": "code",
   "execution_count": 3,
   "metadata": {},
   "outputs": [
    {
     "name": "stderr",
     "output_type": "stream",
     "text": [
      "/Users/tianyizhao/opt/anaconda3/lib/python3.7/site-packages/IPython/core/interactiveshell.py:3058: DtypeWarning: Columns (3,6,9,10,11,15,41,42,58,80,81,83) have mixed types. Specify dtype option on import or set low_memory=False.\n",
      "  interactivity=interactivity, compiler=compiler, result=result)\n"
     ]
    }
   ],
   "source": [
    "fr1 = open('/Users/tianyizhao/Desktop/PUMA Dataset/mid_result.csv','rb')\n",
    "df4 = pd.read_csv(fr1)"
   ]
  },
  {
   "cell_type": "code",
   "execution_count": 4,
   "metadata": {},
   "outputs": [
    {
     "data": {
      "text/html": [
       "<div>\n",
       "<style scoped>\n",
       "    .dataframe tbody tr th:only-of-type {\n",
       "        vertical-align: middle;\n",
       "    }\n",
       "\n",
       "    .dataframe tbody tr th {\n",
       "        vertical-align: top;\n",
       "    }\n",
       "\n",
       "    .dataframe thead th {\n",
       "        text-align: right;\n",
       "    }\n",
       "</style>\n",
       "<table border=\"1\" class=\"dataframe\">\n",
       "  <thead>\n",
       "    <tr style=\"text-align: right;\">\n",
       "      <th></th>\n",
       "      <th>InternationalStoreCode</th>\n",
       "      <th>TheDate</th>\n",
       "      <th>Transaction`Type</th>\n",
       "      <th>ShipToZipCode</th>\n",
       "      <th>Transactions</th>\n",
       "      <th>NickName</th>\n",
       "      <th>ZipCode</th>\n",
       "      <th>CloseDt</th>\n",
       "      <th>Channel</th>\n",
       "      <th>RegionName</th>\n",
       "      <th>...</th>\n",
       "      <th>StateANSI</th>\n",
       "      <th>CountyANSI</th>\n",
       "      <th>ZIPIntroDate</th>\n",
       "      <th>AliasIntroDate</th>\n",
       "      <th>FacilityCode</th>\n",
       "      <th>CityDeliveryIndicator</th>\n",
       "      <th>CarrierRouteRateSortation</th>\n",
       "      <th>FinanceNumber</th>\n",
       "      <th>UniqueZIPName</th>\n",
       "      <th>label</th>\n",
       "    </tr>\n",
       "  </thead>\n",
       "  <tbody>\n",
       "    <tr>\n",
       "      <td>0</td>\n",
       "      <td>CARO0015</td>\n",
       "      <td>2017-11-20 00:00:00.000</td>\n",
       "      <td>Sale</td>\n",
       "      <td>J7C 5</td>\n",
       "      <td>1.0</td>\n",
       "      <td>Mirabel</td>\n",
       "      <td>J7J 0T1</td>\n",
       "      <td>20991231.0</td>\n",
       "      <td>Outlet</td>\n",
       "      <td>EAST</td>\n",
       "      <td>...</td>\n",
       "      <td>NaN</td>\n",
       "      <td>NaN</td>\n",
       "      <td>NaN</td>\n",
       "      <td>NaN</td>\n",
       "      <td>NaN</td>\n",
       "      <td>NaN</td>\n",
       "      <td>NaN</td>\n",
       "      <td>NaN</td>\n",
       "      <td>NaN</td>\n",
       "      <td>1</td>\n",
       "    </tr>\n",
       "    <tr>\n",
       "      <td>1</td>\n",
       "      <td>CARO0015</td>\n",
       "      <td>2018-07-31 00:00:00.000</td>\n",
       "      <td>Sale</td>\n",
       "      <td>H1L 4</td>\n",
       "      <td>1.0</td>\n",
       "      <td>Mirabel</td>\n",
       "      <td>J7J 0T1</td>\n",
       "      <td>20991231.0</td>\n",
       "      <td>Outlet</td>\n",
       "      <td>EAST</td>\n",
       "      <td>...</td>\n",
       "      <td>NaN</td>\n",
       "      <td>NaN</td>\n",
       "      <td>NaN</td>\n",
       "      <td>NaN</td>\n",
       "      <td>NaN</td>\n",
       "      <td>NaN</td>\n",
       "      <td>NaN</td>\n",
       "      <td>NaN</td>\n",
       "      <td>NaN</td>\n",
       "      <td>1</td>\n",
       "    </tr>\n",
       "    <tr>\n",
       "      <td>2</td>\n",
       "      <td>CARO0015</td>\n",
       "      <td>2019-01-15 00:00:00.000</td>\n",
       "      <td>Return</td>\n",
       "      <td>NaN</td>\n",
       "      <td>1.0</td>\n",
       "      <td>Mirabel</td>\n",
       "      <td>J7J 0T1</td>\n",
       "      <td>20991231.0</td>\n",
       "      <td>Outlet</td>\n",
       "      <td>EAST</td>\n",
       "      <td>...</td>\n",
       "      <td>NaN</td>\n",
       "      <td>NaN</td>\n",
       "      <td>NaN</td>\n",
       "      <td>NaN</td>\n",
       "      <td>NaN</td>\n",
       "      <td>NaN</td>\n",
       "      <td>NaN</td>\n",
       "      <td>NaN</td>\n",
       "      <td>NaN</td>\n",
       "      <td>1</td>\n",
       "    </tr>\n",
       "    <tr>\n",
       "      <td>3</td>\n",
       "      <td>CARO0015</td>\n",
       "      <td>2016-02-20 00:00:00.000</td>\n",
       "      <td>Return</td>\n",
       "      <td>NaN</td>\n",
       "      <td>1.0</td>\n",
       "      <td>Mirabel</td>\n",
       "      <td>J7J 0T1</td>\n",
       "      <td>20991231.0</td>\n",
       "      <td>Outlet</td>\n",
       "      <td>EAST</td>\n",
       "      <td>...</td>\n",
       "      <td>NaN</td>\n",
       "      <td>NaN</td>\n",
       "      <td>NaN</td>\n",
       "      <td>NaN</td>\n",
       "      <td>NaN</td>\n",
       "      <td>NaN</td>\n",
       "      <td>NaN</td>\n",
       "      <td>NaN</td>\n",
       "      <td>NaN</td>\n",
       "      <td>1</td>\n",
       "    </tr>\n",
       "    <tr>\n",
       "      <td>4</td>\n",
       "      <td>CARO0015</td>\n",
       "      <td>2019-03-06 00:00:00.000</td>\n",
       "      <td>Return</td>\n",
       "      <td>NaN</td>\n",
       "      <td>1.0</td>\n",
       "      <td>Mirabel</td>\n",
       "      <td>J7J 0T1</td>\n",
       "      <td>20991231.0</td>\n",
       "      <td>Outlet</td>\n",
       "      <td>EAST</td>\n",
       "      <td>...</td>\n",
       "      <td>NaN</td>\n",
       "      <td>NaN</td>\n",
       "      <td>NaN</td>\n",
       "      <td>NaN</td>\n",
       "      <td>NaN</td>\n",
       "      <td>NaN</td>\n",
       "      <td>NaN</td>\n",
       "      <td>NaN</td>\n",
       "      <td>NaN</td>\n",
       "      <td>1</td>\n",
       "    </tr>\n",
       "  </tbody>\n",
       "</table>\n",
       "<p>5 rows × 104 columns</p>\n",
       "</div>"
      ],
      "text/plain": [
       "  InternationalStoreCode                  TheDate Transaction`Type  \\\n",
       "0               CARO0015  2017-11-20 00:00:00.000             Sale   \n",
       "1               CARO0015  2018-07-31 00:00:00.000             Sale   \n",
       "2               CARO0015  2019-01-15 00:00:00.000           Return   \n",
       "3               CARO0015  2016-02-20 00:00:00.000           Return   \n",
       "4               CARO0015  2019-03-06 00:00:00.000           Return   \n",
       "\n",
       "  ShipToZipCode  Transactions NickName  ZipCode     CloseDt Channel  \\\n",
       "0         J7C 5           1.0  Mirabel  J7J 0T1  20991231.0  Outlet   \n",
       "1         H1L 4           1.0  Mirabel  J7J 0T1  20991231.0  Outlet   \n",
       "2           NaN           1.0  Mirabel  J7J 0T1  20991231.0  Outlet   \n",
       "3           NaN           1.0  Mirabel  J7J 0T1  20991231.0  Outlet   \n",
       "4           NaN           1.0  Mirabel  J7J 0T1  20991231.0  Outlet   \n",
       "\n",
       "  RegionName  ... StateANSI CountyANSI ZIPIntroDate AliasIntroDate  \\\n",
       "0       EAST  ...       NaN        NaN          NaN            NaN   \n",
       "1       EAST  ...       NaN        NaN          NaN            NaN   \n",
       "2       EAST  ...       NaN        NaN          NaN            NaN   \n",
       "3       EAST  ...       NaN        NaN          NaN            NaN   \n",
       "4       EAST  ...       NaN        NaN          NaN            NaN   \n",
       "\n",
       "   FacilityCode CityDeliveryIndicator  CarrierRouteRateSortation  \\\n",
       "0           NaN                   NaN                        NaN   \n",
       "1           NaN                   NaN                        NaN   \n",
       "2           NaN                   NaN                        NaN   \n",
       "3           NaN                   NaN                        NaN   \n",
       "4           NaN                   NaN                        NaN   \n",
       "\n",
       "  FinanceNumber  UniqueZIPName  label  \n",
       "0           NaN            NaN      1  \n",
       "1           NaN            NaN      1  \n",
       "2           NaN            NaN      1  \n",
       "3           NaN            NaN      1  \n",
       "4           NaN            NaN      1  \n",
       "\n",
       "[5 rows x 104 columns]"
      ]
     },
     "execution_count": 4,
     "metadata": {},
     "output_type": "execute_result"
    }
   ],
   "source": [
    "df4.head()"
   ]
  },
  {
   "cell_type": "code",
   "execution_count": 5,
   "metadata": {},
   "outputs": [
    {
     "data": {
      "text/plain": [
       "['InternationalStoreCode',\n",
       " 'TheDate',\n",
       " 'Transaction`Type',\n",
       " 'ShipToZipCode',\n",
       " 'Transactions',\n",
       " 'NickName',\n",
       " 'ZipCode',\n",
       " 'CloseDt',\n",
       " 'Channel',\n",
       " 'RegionName',\n",
       " 'DistrictName',\n",
       " 'AreaName',\n",
       " 'TimeZone_x',\n",
       " 'LocationType',\n",
       " 'SellingSqFt',\n",
       " 'SimilarStore',\n",
       " 'Type',\n",
       " 'PrimaryRecord',\n",
       " 'Population',\n",
       " 'HouseholdsPerZipcode',\n",
       " 'WhitePopulation',\n",
       " 'BlackPopulation',\n",
       " 'HispanicPopulation',\n",
       " 'AsianPopulation',\n",
       " 'HawaiianPopulation',\n",
       " 'IndianPopulation',\n",
       " 'OtherPopulation',\n",
       " 'MalePopulation',\n",
       " 'FemalePopulation',\n",
       " 'PersonsPerHousehold',\n",
       " 'AverageHouseValue',\n",
       " 'IncomePerHousehold',\n",
       " 'MedianAge',\n",
       " 'MedianAgeMale',\n",
       " 'MedianAgeFemale',\n",
       " 'Latitude',\n",
       " 'Longitude',\n",
       " 'Elevation',\n",
       " 'State',\n",
       " 'StateFullName',\n",
       " 'CityType',\n",
       " 'CityAliasAbbreviation',\n",
       " 'AreaCode',\n",
       " 'City',\n",
       " 'CityAliasName',\n",
       " 'County',\n",
       " 'CountyFIPS',\n",
       " 'StateFIPS',\n",
       " 'TimeZone_y',\n",
       " 'DayLightSaving',\n",
       " 'MSA',\n",
       " 'PMSA',\n",
       " 'CSA',\n",
       " 'CBSA',\n",
       " 'CBSA_DIV',\n",
       " 'CBSA_Type',\n",
       " 'CBSA_Name',\n",
       " 'MSA_Name',\n",
       " 'PMSA_Name',\n",
       " 'Region',\n",
       " 'Division',\n",
       " 'MailingName',\n",
       " 'NumberOfBusinesses',\n",
       " 'NumberOfEmployees',\n",
       " 'BusinessFirstQuarterPayroll',\n",
       " 'BusinessAnnualPayroll',\n",
       " 'BusinessEmploymentFlag',\n",
       " 'GrowthRank',\n",
       " 'GrowthHousingUnits2009',\n",
       " 'GrowthHousingUnits2010',\n",
       " 'GrowthIncreaseNumber',\n",
       " 'GrowthIncreasePercentage',\n",
       " 'CBSAPop2003',\n",
       " 'CBSADivPop2003',\n",
       " 'CongressionalDistrict',\n",
       " 'CongressionalLandArea',\n",
       " 'DeliveryResidential',\n",
       " 'DeliveryBusiness',\n",
       " 'DeliveryTotal',\n",
       " 'PreferredLastLineKey',\n",
       " 'ClassificationCode',\n",
       " 'MultiCounty',\n",
       " 'CSAName',\n",
       " 'CBSA_DIV_Name',\n",
       " 'CityStateKey',\n",
       " 'PopulationEstimate',\n",
       " 'LandArea',\n",
       " 'WaterArea',\n",
       " 'CityAliasCode',\n",
       " 'CityMixedCase',\n",
       " 'CityAliasMixedCase',\n",
       " 'BoxCount',\n",
       " 'SFDU',\n",
       " 'MFDU',\n",
       " 'StateANSI',\n",
       " 'CountyANSI',\n",
       " 'ZIPIntroDate',\n",
       " 'AliasIntroDate',\n",
       " 'FacilityCode',\n",
       " 'CityDeliveryIndicator',\n",
       " 'CarrierRouteRateSortation',\n",
       " 'FinanceNumber',\n",
       " 'UniqueZIPName',\n",
       " 'label']"
      ]
     },
     "execution_count": 5,
     "metadata": {},
     "output_type": "execute_result"
    }
   ],
   "source": [
    "list(df4.columns)"
   ]
  },
  {
   "cell_type": "code",
   "execution_count": 6,
   "metadata": {},
   "outputs": [
    {
     "data": {
      "text/plain": [
       "True"
      ]
     },
     "execution_count": 6,
     "metadata": {},
     "output_type": "execute_result"
    }
   ],
   "source": [
    "df.shape[0]==df4.shape[0]"
   ]
  },
  {
   "cell_type": "code",
   "execution_count": 7,
   "metadata": {},
   "outputs": [],
   "source": [
    "df['SellingSqFt'] = df4['SellingSqFt'].copy()\n",
    "df['SellingSqFt'] = df['SellingSqFt'].fillna(-1)\n",
    "df['SellingSqFt_is_exist'] = df['SellingSqFt'].apply(lambda x:'Unknown' if x==-1 else 'Exist')\n",
    "df.drop('SellingSqFt',axis=1,inplace=True)"
   ]
  },
  {
   "cell_type": "code",
   "execution_count": 8,
   "metadata": {},
   "outputs": [],
   "source": [
    "df[['Population','IncomePerHousehold']]=df4[['Population','IncomePerHousehold']].copy()\n",
    "df['Population'] = df['Population'].fillna(-1)\n",
    "df['IncomePerHousehold'] = df['IncomePerHousehold'].fillna(-1)"
   ]
  },
  {
   "cell_type": "code",
   "execution_count": 9,
   "metadata": {},
   "outputs": [],
   "source": [
    "cut_list = [-2,-1,2.41,3.04,10000000000]\n",
    "label = ['Unknown','0-2.41','2.41-3.04','3.04+']\n",
    "df['Population'] = pd.cut(df['Population'],cut_list,labels=label)\n",
    "cut_list = [-2,-1,99924,10000000000]\n",
    "label = ['Unknown','0-99924','99924+']\n",
    "df['IncomePerHousehold'] = pd.cut(df['IncomePerHousehold'],cut_list,labels=label)"
   ]
  },
  {
   "cell_type": "code",
   "execution_count": 10,
   "metadata": {
    "scrolled": true
   },
   "outputs": [
    {
     "data": {
      "text/plain": [
       "0          Unknown\n",
       "1          Unknown\n",
       "2          Unknown\n",
       "3          Unknown\n",
       "4          Unknown\n",
       "            ...   \n",
       "2928899     99924+\n",
       "2928900     99924+\n",
       "2928901     99924+\n",
       "2928902    0-99924\n",
       "2928903    0-99924\n",
       "Name: IncomePerHousehold, Length: 2928904, dtype: category\n",
       "Categories (3, object): [Unknown < 0-99924 < 99924+]"
      ]
     },
     "execution_count": 10,
     "metadata": {},
     "output_type": "execute_result"
    }
   ],
   "source": [
    "df['IncomePerHousehold']"
   ]
  },
  {
   "cell_type": "code",
   "execution_count": 11,
   "metadata": {},
   "outputs": [
    {
     "data": {
      "text/plain": [
       "0    2917088\n",
       "1      11816\n",
       "Name: label, dtype: int64"
      ]
     },
     "execution_count": 11,
     "metadata": {},
     "output_type": "execute_result"
    }
   ],
   "source": [
    "df['label'].value_counts()"
   ]
  },
  {
   "cell_type": "code",
   "execution_count": 12,
   "metadata": {},
   "outputs": [
    {
     "data": {
      "text/plain": [
       "Index(['Division', 'CarrierRouteRateSortation', 'CityDeliveryIndicator',\n",
       "       'LocationType', 'Channel', 'Region', 'LandArea', 'PersonsPerHousehold',\n",
       "       'WaterArea', 'BoxCount', 'CBSA', 'Transactions', 'TimeZone_x',\n",
       "       'DayLightSaving', 'CityType', 'CBSA_Type', 'AliasIntroDate',\n",
       "       'ZIPIntroDate', 'FacilityCode', 'MailingName', 'PrimaryRecord',\n",
       "       'Transaction`Type', 'label', 'SellingSqFt_is_exist', 'Population',\n",
       "       'IncomePerHousehold'],\n",
       "      dtype='object')"
      ]
     },
     "execution_count": 12,
     "metadata": {},
     "output_type": "execute_result"
    }
   ],
   "source": [
    "df.columns"
   ]
  },
  {
   "cell_type": "code",
   "execution_count": 13,
   "metadata": {},
   "outputs": [
    {
     "data": {
      "text/plain": [
       "0          Unknown\n",
       "1          Unknown\n",
       "2          Unknown\n",
       "3          Unknown\n",
       "4          Unknown\n",
       "            ...   \n",
       "2928899      3.04+\n",
       "2928900      3.04+\n",
       "2928901      3.04+\n",
       "2928902      3.04+\n",
       "2928903      3.04+\n",
       "Name: Population, Length: 2928904, dtype: category\n",
       "Categories (4, object): [Unknown < 0-2.41 < 2.41-3.04 < 3.04+]"
      ]
     },
     "execution_count": 13,
     "metadata": {},
     "output_type": "execute_result"
    }
   ],
   "source": [
    "df['Population']"
   ]
  },
  {
   "cell_type": "markdown",
   "metadata": {},
   "source": [
    "#### 先划分样本"
   ]
  },
  {
   "cell_type": "code",
   "execution_count": 14,
   "metadata": {},
   "outputs": [
    {
     "name": "stderr",
     "output_type": "stream",
     "text": [
      "/Users/tianyizhao/opt/anaconda3/lib/python3.7/site-packages/pandas/core/frame.py:4102: SettingWithCopyWarning: \n",
      "A value is trying to be set on a copy of a slice from a DataFrame\n",
      "\n",
      "See the caveats in the documentation: http://pandas.pydata.org/pandas-docs/stable/user_guide/indexing.html#returning-a-view-versus-a-copy\n",
      "  errors=errors,\n"
     ]
    }
   ],
   "source": [
    "X_total = df[[x for x in list(df.columns) if x!='label' ]]\n",
    "drop_list = ['Division','CarrierRouteRateSortation','CityDeliveryIndicator','AliasIntroDate','ZIPIntroDate','WaterArea','TimeZone_x','DayLightSaving',\n",
    "            'MailingName','LandArea','FacilityCode','BoxCount']\n",
    "\n",
    "X_total.drop(drop_list,axis=1,inplace=True)\n",
    "y_total = df['label']"
   ]
  },
  {
   "cell_type": "code",
   "execution_count": 15,
   "metadata": {},
   "outputs": [],
   "source": [
    "X_total = pd.get_dummies(X_total)"
   ]
  },
  {
   "cell_type": "code",
   "execution_count": 16,
   "metadata": {},
   "outputs": [
    {
     "data": {
      "text/plain": [
       "Index(['LocationType_-unknown', 'LocationType_Internet', 'LocationType_Mall',\n",
       "       'LocationType_Street', 'Channel_Concept', 'Channel_Outlet',\n",
       "       'Channel_Web', 'Region_-unknown', 'Region_Midwest', 'Region_Northeast',\n",
       "       'Region_South', 'Region_West', 'PersonsPerHousehold_(-1.0, 2.41]',\n",
       "       'PersonsPerHousehold_(-2.0, -1.0]', 'PersonsPerHousehold_(2.41, 3.04]',\n",
       "       'PersonsPerHousehold_(3.04, 10000000000.0]', 'CBSA_(-1, 31080]',\n",
       "       'CBSA_(-2, -1]', 'CBSA_(31080, 10000000000]', 'Transactions_(-100, 2]',\n",
       "       'Transactions_(2, 4]', 'Transactions_(4, 67]',\n",
       "       'Transactions_(67, 100000000000]', 'CityType_-unknown', 'CityType_B',\n",
       "       'CityType_P', 'CityType_Z', 'CBSA_Type_-unknown', 'CBSA_Type_Metro',\n",
       "       'CBSA_Type_Micro', 'PrimaryRecord_-unknown', 'PrimaryRecord_P',\n",
       "       'Transaction`Type_-unknown', 'Transaction`Type_Return',\n",
       "       'Transaction`Type_Sale', 'SellingSqFt_is_exist_Exist',\n",
       "       'SellingSqFt_is_exist_Unknown', 'Population_Unknown',\n",
       "       'Population_0-2.41', 'Population_2.41-3.04', 'Population_3.04+',\n",
       "       'IncomePerHousehold_Unknown', 'IncomePerHousehold_0-99924',\n",
       "       'IncomePerHousehold_99924+'],\n",
       "      dtype='object')"
      ]
     },
     "execution_count": 16,
     "metadata": {},
     "output_type": "execute_result"
    }
   ],
   "source": [
    "X_total.columns"
   ]
  },
  {
   "cell_type": "code",
   "execution_count": 17,
   "metadata": {},
   "outputs": [],
   "source": [
    "X_columns_list = []\n",
    "for x_column in list(X_total.columns):\n",
    "    if 'Unknown' in x_column:\n",
    "        a = x_column.replace('Unknown','unknown')\n",
    "    else:\n",
    "        a = x_column\n",
    "    X_columns_list.append(a)\n"
   ]
  },
  {
   "cell_type": "code",
   "execution_count": 18,
   "metadata": {},
   "outputs": [],
   "source": [
    "X_total.columns = X_columns_list"
   ]
  },
  {
   "cell_type": "code",
   "execution_count": 19,
   "metadata": {},
   "outputs": [
    {
     "data": {
      "text/plain": [
       "Index(['LocationType_-unknown', 'LocationType_Internet', 'LocationType_Mall',\n",
       "       'LocationType_Street', 'Channel_Concept', 'Channel_Outlet',\n",
       "       'Channel_Web', 'Region_-unknown', 'Region_Midwest', 'Region_Northeast',\n",
       "       'Region_South', 'Region_West', 'PersonsPerHousehold_(-1.0, 2.41]',\n",
       "       'PersonsPerHousehold_(-2.0, -1.0]', 'PersonsPerHousehold_(2.41, 3.04]',\n",
       "       'PersonsPerHousehold_(3.04, 10000000000.0]', 'CBSA_(-1, 31080]',\n",
       "       'CBSA_(-2, -1]', 'CBSA_(31080, 10000000000]', 'Transactions_(-100, 2]',\n",
       "       'Transactions_(2, 4]', 'Transactions_(4, 67]',\n",
       "       'Transactions_(67, 100000000000]', 'CityType_-unknown', 'CityType_B',\n",
       "       'CityType_P', 'CityType_Z', 'CBSA_Type_-unknown', 'CBSA_Type_Metro',\n",
       "       'CBSA_Type_Micro', 'PrimaryRecord_-unknown', 'PrimaryRecord_P',\n",
       "       'Transaction`Type_-unknown', 'Transaction`Type_Return',\n",
       "       'Transaction`Type_Sale', 'SellingSqFt_is_exist_Exist',\n",
       "       'SellingSqFt_is_exist_unknown', 'Population_unknown',\n",
       "       'Population_0-2.41', 'Population_2.41-3.04', 'Population_3.04+',\n",
       "       'IncomePerHousehold_unknown', 'IncomePerHousehold_0-99924',\n",
       "       'IncomePerHousehold_99924+'],\n",
       "      dtype='object')"
      ]
     },
     "execution_count": 19,
     "metadata": {},
     "output_type": "execute_result"
    }
   ],
   "source": [
    "X_total.columns"
   ]
  },
  {
   "cell_type": "code",
   "execution_count": 20,
   "metadata": {},
   "outputs": [],
   "source": [
    "na_list = [x for x in X_columns_list if 'unknown' in x]"
   ]
  },
  {
   "cell_type": "markdown",
   "metadata": {},
   "source": [
    "#### 衍生信息完整度变量"
   ]
  },
  {
   "cell_type": "code",
   "execution_count": 21,
   "metadata": {},
   "outputs": [],
   "source": [
    "complete_percent = X_total[na_list].apply(lambda x:sum(x)/len(x),axis=1)"
   ]
  },
  {
   "cell_type": "code",
   "execution_count": 22,
   "metadata": {},
   "outputs": [],
   "source": [
    "complete_percent1 = []\n",
    "NN = X_total[na_list].shape[1]\n",
    "for index,row in X_total[na_list].iterrows():\n",
    "    complete_percent1.append(sum(row)/NN)"
   ]
  },
  {
   "cell_type": "code",
   "execution_count": 23,
   "metadata": {},
   "outputs": [
    {
     "data": {
      "text/plain": [
       "{0.0, 0.1111111111111111, 0.2222222222222222, 0.6666666666666666}"
      ]
     },
     "execution_count": 23,
     "metadata": {},
     "output_type": "execute_result"
    }
   ],
   "source": [
    "set(complete_percent1)"
   ]
  },
  {
   "cell_type": "code",
   "execution_count": 24,
   "metadata": {},
   "outputs": [
    {
     "data": {
      "text/plain": [
       "0        0.666667\n",
       "5075     0.000000\n",
       "5859     0.222222\n",
       "11805    0.111111\n",
       "dtype: float64"
      ]
     },
     "execution_count": 24,
     "metadata": {},
     "output_type": "execute_result"
    }
   ],
   "source": [
    "complete_percent.drop_duplicates()"
   ]
  },
  {
   "cell_type": "code",
   "execution_count": 25,
   "metadata": {},
   "outputs": [],
   "source": [
    "X_total['complete_percent'] = complete_percent\n",
    "X_total['ZipCode'] = df4['ZipCode']\n",
    "from sklearn.model_selection import train_test_split\n",
    "X_train,X_test, y_train, y_test =train_test_split(X_total,y_total,test_size=0.4, random_state=1001)"
   ]
  },
  {
   "cell_type": "markdown",
   "metadata": {},
   "source": [
    "#### 保留zipcode为数字"
   ]
  },
  {
   "cell_type": "code",
   "execution_count": 26,
   "metadata": {},
   "outputs": [],
   "source": [
    "filter_1 = X_test['ZipCode'].apply(lambda x:str(x).isdigit())"
   ]
  },
  {
   "cell_type": "code",
   "execution_count": 27,
   "metadata": {},
   "outputs": [
    {
     "data": {
      "text/plain": [
       "(1171562, 46)"
      ]
     },
     "execution_count": 27,
     "metadata": {},
     "output_type": "execute_result"
    }
   ],
   "source": [
    "X_test.shape"
   ]
  },
  {
   "cell_type": "code",
   "execution_count": 28,
   "metadata": {},
   "outputs": [
    {
     "data": {
      "text/plain": [
       "(1164708, 46)"
      ]
     },
     "execution_count": 28,
     "metadata": {},
     "output_type": "execute_result"
    }
   ],
   "source": [
    "X_test[filter_1==True].shape"
   ]
  },
  {
   "cell_type": "code",
   "execution_count": 29,
   "metadata": {},
   "outputs": [],
   "source": [
    "X_test=X_test[filter_1==True]\n",
    "y_test = y_test[filter_1==True]"
   ]
  },
  {
   "cell_type": "code",
   "execution_count": 30,
   "metadata": {},
   "outputs": [
    {
     "name": "stderr",
     "output_type": "stream",
     "text": [
      "/Users/tianyizhao/opt/anaconda3/lib/python3.7/site-packages/pandas/core/frame.py:4102: SettingWithCopyWarning: \n",
      "A value is trying to be set on a copy of a slice from a DataFrame\n",
      "\n",
      "See the caveats in the documentation: http://pandas.pydata.org/pandas-docs/stable/user_guide/indexing.html#returning-a-view-versus-a-copy\n",
      "  errors=errors,\n"
     ]
    }
   ],
   "source": [
    "train_zipcode = X_train['ZipCode']\n",
    "test_zipcode = X_test['ZipCode']\n",
    "X_train.drop('ZipCode',axis=1,inplace=True)\n",
    "X_test.drop('ZipCode',axis=1,inplace=True)"
   ]
  },
  {
   "cell_type": "markdown",
   "metadata": {},
   "source": [
    "#### 采样"
   ]
  },
  {
   "cell_type": "code",
   "execution_count": 31,
   "metadata": {},
   "outputs": [],
   "source": [
    "df1 =X_train[y_train==0]\n",
    "df2 = df1.sample(sum(y_train),random_state=1)"
   ]
  },
  {
   "cell_type": "code",
   "execution_count": 32,
   "metadata": {},
   "outputs": [],
   "source": [
    "df3 = X_train[y_train==1]\n",
    "df3 = df3.append(df2)"
   ]
  },
  {
   "cell_type": "code",
   "execution_count": 33,
   "metadata": {},
   "outputs": [
    {
     "data": {
      "text/plain": [
       "(14350, 45)"
      ]
     },
     "execution_count": 33,
     "metadata": {},
     "output_type": "execute_result"
    }
   ],
   "source": [
    "df3.shape"
   ]
  },
  {
   "cell_type": "code",
   "execution_count": 34,
   "metadata": {},
   "outputs": [
    {
     "data": {
      "text/plain": [
       "7175"
      ]
     },
     "execution_count": 34,
     "metadata": {},
     "output_type": "execute_result"
    }
   ],
   "source": [
    "sum(y_train==1)"
   ]
  },
  {
   "cell_type": "code",
   "execution_count": 35,
   "metadata": {},
   "outputs": [],
   "source": [
    "train_x = df3\n",
    "train_y=[1]*7175\n",
    "train_y.extend([0]*7175)"
   ]
  },
  {
   "cell_type": "code",
   "execution_count": 36,
   "metadata": {},
   "outputs": [],
   "source": [
    "train_x.index = list(range(len(train_x)))"
   ]
  },
  {
   "cell_type": "code",
   "execution_count": 37,
   "metadata": {},
   "outputs": [
    {
     "data": {
      "text/plain": [
       "Index(['LocationType_-unknown', 'LocationType_Internet', 'LocationType_Mall',\n",
       "       'LocationType_Street', 'Channel_Concept', 'Channel_Outlet',\n",
       "       'Channel_Web', 'Region_-unknown', 'Region_Midwest', 'Region_Northeast',\n",
       "       'Region_South', 'Region_West', 'PersonsPerHousehold_(-1.0, 2.41]',\n",
       "       'PersonsPerHousehold_(-2.0, -1.0]', 'PersonsPerHousehold_(2.41, 3.04]',\n",
       "       'PersonsPerHousehold_(3.04, 10000000000.0]', 'CBSA_(-1, 31080]',\n",
       "       'CBSA_(-2, -1]', 'CBSA_(31080, 10000000000]', 'Transactions_(-100, 2]',\n",
       "       'Transactions_(2, 4]', 'Transactions_(4, 67]',\n",
       "       'Transactions_(67, 100000000000]', 'CityType_-unknown', 'CityType_B',\n",
       "       'CityType_P', 'CityType_Z', 'CBSA_Type_-unknown', 'CBSA_Type_Metro',\n",
       "       'CBSA_Type_Micro', 'PrimaryRecord_-unknown', 'PrimaryRecord_P',\n",
       "       'Transaction`Type_-unknown', 'Transaction`Type_Return',\n",
       "       'Transaction`Type_Sale', 'SellingSqFt_is_exist_Exist',\n",
       "       'SellingSqFt_is_exist_unknown', 'Population_unknown',\n",
       "       'Population_0-2.41', 'Population_2.41-3.04', 'Population_3.04+',\n",
       "       'IncomePerHousehold_unknown', 'IncomePerHousehold_0-99924',\n",
       "       'IncomePerHousehold_99924+', 'complete_percent'],\n",
       "      dtype='object')"
      ]
     },
     "execution_count": 37,
     "metadata": {},
     "output_type": "execute_result"
    }
   ],
   "source": [
    "train_x.columns"
   ]
  },
  {
   "cell_type": "code",
   "execution_count": 38,
   "metadata": {},
   "outputs": [
    {
     "name": "stdout",
     "output_type": "stream",
     "text": [
      "0.9970616032730761\n"
     ]
    },
    {
     "name": "stderr",
     "output_type": "stream",
     "text": [
      "/Users/tianyizhao/opt/anaconda3/lib/python3.7/site-packages/sklearn/linear_model/logistic.py:432: FutureWarning: Default solver will be changed to 'lbfgs' in 0.22. Specify a solver to silence this warning.\n",
      "  FutureWarning)\n"
     ]
    }
   ],
   "source": [
    "from sklearn import metrics\n",
    "from sklearn.linear_model import LogisticRegression\n",
    "lr = LogisticRegression()   # 初始化LogisticRegression\n",
    "lr.fit(train_x,train_y)   # 使用训练集对测试集进行训练\n",
    "lr_y_predit1=lr.predict_proba(train_x)[:,1]  # 使用逻辑回归函数对训练集进行预测\n",
    "train_auc = metrics.roc_auc_score(train_y,lr_y_predit1)\n",
    "print(train_auc)"
   ]
  },
  {
   "cell_type": "code",
   "execution_count": 39,
   "metadata": {},
   "outputs": [],
   "source": [
    "def get_LR_importance(LR_model,col_name):\n",
    "    important_df = pd.DataFrame(list(zip(list(LR_model.coef_[0,:]),col_name)),columns=['weight','name']).sort_values(by=['weight'],ascending=False)\n",
    "    important_df.index = list(range(len(important_df)))\n",
    "    return important_df"
   ]
  },
  {
   "cell_type": "code",
   "execution_count": 40,
   "metadata": {},
   "outputs": [
    {
     "data": {
      "text/html": [
       "<div>\n",
       "<style scoped>\n",
       "    .dataframe tbody tr th:only-of-type {\n",
       "        vertical-align: middle;\n",
       "    }\n",
       "\n",
       "    .dataframe tbody tr th {\n",
       "        vertical-align: top;\n",
       "    }\n",
       "\n",
       "    .dataframe thead th {\n",
       "        text-align: right;\n",
       "    }\n",
       "</style>\n",
       "<table border=\"1\" class=\"dataframe\">\n",
       "  <thead>\n",
       "    <tr style=\"text-align: right;\">\n",
       "      <th></th>\n",
       "      <th>weight</th>\n",
       "      <th>name</th>\n",
       "    </tr>\n",
       "  </thead>\n",
       "  <tbody>\n",
       "    <tr>\n",
       "      <td>0</td>\n",
       "      <td>5.243665</td>\n",
       "      <td>Region_Northeast</td>\n",
       "    </tr>\n",
       "    <tr>\n",
       "      <td>1</td>\n",
       "      <td>3.338485</td>\n",
       "      <td>PersonsPerHousehold_(3.04, 10000000000.0]</td>\n",
       "    </tr>\n",
       "    <tr>\n",
       "      <td>2</td>\n",
       "      <td>2.142358</td>\n",
       "      <td>IncomePerHousehold_0-99924</td>\n",
       "    </tr>\n",
       "    <tr>\n",
       "      <td>3</td>\n",
       "      <td>1.849055</td>\n",
       "      <td>Channel_Concept</td>\n",
       "    </tr>\n",
       "    <tr>\n",
       "      <td>4</td>\n",
       "      <td>1.730535</td>\n",
       "      <td>Transactions_(67, 100000000000]</td>\n",
       "    </tr>\n",
       "    <tr>\n",
       "      <td>5</td>\n",
       "      <td>1.603211</td>\n",
       "      <td>LocationType_Mall</td>\n",
       "    </tr>\n",
       "    <tr>\n",
       "      <td>6</td>\n",
       "      <td>1.020231</td>\n",
       "      <td>LocationType_Street</td>\n",
       "    </tr>\n",
       "    <tr>\n",
       "      <td>7</td>\n",
       "      <td>0.788671</td>\n",
       "      <td>Transaction`Type_-unknown</td>\n",
       "    </tr>\n",
       "    <tr>\n",
       "      <td>8</td>\n",
       "      <td>0.590421</td>\n",
       "      <td>IncomePerHousehold_unknown</td>\n",
       "    </tr>\n",
       "    <tr>\n",
       "      <td>9</td>\n",
       "      <td>0.590421</td>\n",
       "      <td>Population_unknown</td>\n",
       "    </tr>\n",
       "    <tr>\n",
       "      <td>10</td>\n",
       "      <td>0.590421</td>\n",
       "      <td>CityType_-unknown</td>\n",
       "    </tr>\n",
       "    <tr>\n",
       "      <td>11</td>\n",
       "      <td>0.590421</td>\n",
       "      <td>PrimaryRecord_-unknown</td>\n",
       "    </tr>\n",
       "    <tr>\n",
       "      <td>12</td>\n",
       "      <td>0.590421</td>\n",
       "      <td>PersonsPerHousehold_(-2.0, -1.0]</td>\n",
       "    </tr>\n",
       "    <tr>\n",
       "      <td>13</td>\n",
       "      <td>0.590421</td>\n",
       "      <td>CBSA_Type_-unknown</td>\n",
       "    </tr>\n",
       "    <tr>\n",
       "      <td>14</td>\n",
       "      <td>0.590421</td>\n",
       "      <td>CBSA_(-2, -1]</td>\n",
       "    </tr>\n",
       "    <tr>\n",
       "      <td>15</td>\n",
       "      <td>0.522188</td>\n",
       "      <td>Transaction`Type_Return</td>\n",
       "    </tr>\n",
       "    <tr>\n",
       "      <td>16</td>\n",
       "      <td>0.484797</td>\n",
       "      <td>Region_West</td>\n",
       "    </tr>\n",
       "    <tr>\n",
       "      <td>17</td>\n",
       "      <td>0.442011</td>\n",
       "      <td>CBSA_Type_Metro</td>\n",
       "    </tr>\n",
       "    <tr>\n",
       "      <td>18</td>\n",
       "      <td>0.338945</td>\n",
       "      <td>complete_percent</td>\n",
       "    </tr>\n",
       "    <tr>\n",
       "      <td>19</td>\n",
       "      <td>0.195731</td>\n",
       "      <td>CBSA_(-1, 31080]</td>\n",
       "    </tr>\n",
       "    <tr>\n",
       "      <td>20</td>\n",
       "      <td>0.136556</td>\n",
       "      <td>Channel_Outlet</td>\n",
       "    </tr>\n",
       "    <tr>\n",
       "      <td>21</td>\n",
       "      <td>0.133512</td>\n",
       "      <td>Region_-unknown</td>\n",
       "    </tr>\n",
       "    <tr>\n",
       "      <td>22</td>\n",
       "      <td>0.000000</td>\n",
       "      <td>Population_2.41-3.04</td>\n",
       "    </tr>\n",
       "    <tr>\n",
       "      <td>23</td>\n",
       "      <td>0.000000</td>\n",
       "      <td>CityType_B</td>\n",
       "    </tr>\n",
       "    <tr>\n",
       "      <td>24</td>\n",
       "      <td>-0.185951</td>\n",
       "      <td>SellingSqFt_is_exist_unknown</td>\n",
       "    </tr>\n",
       "    <tr>\n",
       "      <td>25</td>\n",
       "      <td>-0.242161</td>\n",
       "      <td>CityType_Z</td>\n",
       "    </tr>\n",
       "    <tr>\n",
       "      <td>26</td>\n",
       "      <td>-0.260982</td>\n",
       "      <td>Population_3.04+</td>\n",
       "    </tr>\n",
       "    <tr>\n",
       "      <td>27</td>\n",
       "      <td>-0.364602</td>\n",
       "      <td>SellingSqFt_is_exist_Exist</td>\n",
       "    </tr>\n",
       "    <tr>\n",
       "      <td>28</td>\n",
       "      <td>-0.378823</td>\n",
       "      <td>Transactions_(-100, 2]</td>\n",
       "    </tr>\n",
       "    <tr>\n",
       "      <td>29</td>\n",
       "      <td>-0.637831</td>\n",
       "      <td>LocationType_-unknown</td>\n",
       "    </tr>\n",
       "    <tr>\n",
       "      <td>30</td>\n",
       "      <td>-0.795772</td>\n",
       "      <td>Transactions_(4, 67]</td>\n",
       "    </tr>\n",
       "    <tr>\n",
       "      <td>31</td>\n",
       "      <td>-0.879992</td>\n",
       "      <td>Population_0-2.41</td>\n",
       "    </tr>\n",
       "    <tr>\n",
       "      <td>32</td>\n",
       "      <td>-0.898813</td>\n",
       "      <td>CityType_P</td>\n",
       "    </tr>\n",
       "    <tr>\n",
       "      <td>33</td>\n",
       "      <td>-0.910470</td>\n",
       "      <td>PersonsPerHousehold_(2.41, 3.04]</td>\n",
       "    </tr>\n",
       "    <tr>\n",
       "      <td>34</td>\n",
       "      <td>-1.106494</td>\n",
       "      <td>Transactions_(2, 4]</td>\n",
       "    </tr>\n",
       "    <tr>\n",
       "      <td>35</td>\n",
       "      <td>-1.140974</td>\n",
       "      <td>PrimaryRecord_P</td>\n",
       "    </tr>\n",
       "    <tr>\n",
       "      <td>36</td>\n",
       "      <td>-1.336705</td>\n",
       "      <td>CBSA_(31080, 10000000000]</td>\n",
       "    </tr>\n",
       "    <tr>\n",
       "      <td>37</td>\n",
       "      <td>-1.546605</td>\n",
       "      <td>Region_Midwest</td>\n",
       "    </tr>\n",
       "    <tr>\n",
       "      <td>38</td>\n",
       "      <td>-1.582985</td>\n",
       "      <td>CBSA_Type_Micro</td>\n",
       "    </tr>\n",
       "    <tr>\n",
       "      <td>39</td>\n",
       "      <td>-1.861413</td>\n",
       "      <td>Transaction`Type_Sale</td>\n",
       "    </tr>\n",
       "    <tr>\n",
       "      <td>40</td>\n",
       "      <td>-2.536164</td>\n",
       "      <td>LocationType_Internet</td>\n",
       "    </tr>\n",
       "    <tr>\n",
       "      <td>41</td>\n",
       "      <td>-2.536164</td>\n",
       "      <td>Channel_Web</td>\n",
       "    </tr>\n",
       "    <tr>\n",
       "      <td>42</td>\n",
       "      <td>-3.283332</td>\n",
       "      <td>IncomePerHousehold_99924+</td>\n",
       "    </tr>\n",
       "    <tr>\n",
       "      <td>43</td>\n",
       "      <td>-3.568988</td>\n",
       "      <td>PersonsPerHousehold_(-1.0, 2.41]</td>\n",
       "    </tr>\n",
       "    <tr>\n",
       "      <td>44</td>\n",
       "      <td>-4.865922</td>\n",
       "      <td>Region_South</td>\n",
       "    </tr>\n",
       "  </tbody>\n",
       "</table>\n",
       "</div>"
      ],
      "text/plain": [
       "      weight                                       name\n",
       "0   5.243665                           Region_Northeast\n",
       "1   3.338485  PersonsPerHousehold_(3.04, 10000000000.0]\n",
       "2   2.142358                 IncomePerHousehold_0-99924\n",
       "3   1.849055                            Channel_Concept\n",
       "4   1.730535            Transactions_(67, 100000000000]\n",
       "5   1.603211                          LocationType_Mall\n",
       "6   1.020231                        LocationType_Street\n",
       "7   0.788671                  Transaction`Type_-unknown\n",
       "8   0.590421                 IncomePerHousehold_unknown\n",
       "9   0.590421                         Population_unknown\n",
       "10  0.590421                          CityType_-unknown\n",
       "11  0.590421                     PrimaryRecord_-unknown\n",
       "12  0.590421           PersonsPerHousehold_(-2.0, -1.0]\n",
       "13  0.590421                         CBSA_Type_-unknown\n",
       "14  0.590421                              CBSA_(-2, -1]\n",
       "15  0.522188                    Transaction`Type_Return\n",
       "16  0.484797                                Region_West\n",
       "17  0.442011                            CBSA_Type_Metro\n",
       "18  0.338945                           complete_percent\n",
       "19  0.195731                           CBSA_(-1, 31080]\n",
       "20  0.136556                             Channel_Outlet\n",
       "21  0.133512                            Region_-unknown\n",
       "22  0.000000                       Population_2.41-3.04\n",
       "23  0.000000                                 CityType_B\n",
       "24 -0.185951               SellingSqFt_is_exist_unknown\n",
       "25 -0.242161                                 CityType_Z\n",
       "26 -0.260982                           Population_3.04+\n",
       "27 -0.364602                 SellingSqFt_is_exist_Exist\n",
       "28 -0.378823                     Transactions_(-100, 2]\n",
       "29 -0.637831                      LocationType_-unknown\n",
       "30 -0.795772                       Transactions_(4, 67]\n",
       "31 -0.879992                          Population_0-2.41\n",
       "32 -0.898813                                 CityType_P\n",
       "33 -0.910470           PersonsPerHousehold_(2.41, 3.04]\n",
       "34 -1.106494                        Transactions_(2, 4]\n",
       "35 -1.140974                            PrimaryRecord_P\n",
       "36 -1.336705                  CBSA_(31080, 10000000000]\n",
       "37 -1.546605                             Region_Midwest\n",
       "38 -1.582985                            CBSA_Type_Micro\n",
       "39 -1.861413                      Transaction`Type_Sale\n",
       "40 -2.536164                      LocationType_Internet\n",
       "41 -2.536164                                Channel_Web\n",
       "42 -3.283332                  IncomePerHousehold_99924+\n",
       "43 -3.568988           PersonsPerHousehold_(-1.0, 2.41]\n",
       "44 -4.865922                               Region_South"
      ]
     },
     "execution_count": 40,
     "metadata": {},
     "output_type": "execute_result"
    }
   ],
   "source": [
    "get_LR_importance(lr,list(train_x.columns))"
   ]
  },
  {
   "cell_type": "code",
   "execution_count": 41,
   "metadata": {},
   "outputs": [
    {
     "data": {
      "text/plain": [
       "0.9970616032730761"
      ]
     },
     "execution_count": 41,
     "metadata": {},
     "output_type": "execute_result"
    }
   ],
   "source": [
    "train_auc"
   ]
  },
  {
   "cell_type": "code",
   "execution_count": 42,
   "metadata": {},
   "outputs": [],
   "source": [
    "lr_y_predit2=lr.predict_proba(X_test)[:,1]  # 使用逻辑回归函数对测试集进行预测\n",
    "test_auc = metrics.roc_auc_score(y_test,lr_y_predit2)"
   ]
  },
  {
   "cell_type": "code",
   "execution_count": 43,
   "metadata": {},
   "outputs": [
    {
     "data": {
      "text/plain": [
       "0.998287100049728"
      ]
     },
     "execution_count": 43,
     "metadata": {},
     "output_type": "execute_result"
    }
   ],
   "source": [
    "test_auc"
   ]
  },
  {
   "cell_type": "markdown",
   "metadata": {},
   "source": [
    "#### Decision Tree Classifier"
   ]
  },
  {
   "cell_type": "code",
   "execution_count": 44,
   "metadata": {},
   "outputs": [
    {
     "name": "stdout",
     "output_type": "stream",
     "text": [
      "Tree train AUC\n",
      "0.9964792385484831\n",
      "Tree test AUC\n",
      "0.9991266839620514\n"
     ]
    }
   ],
   "source": [
    "from sklearn.tree import DecisionTreeClassifier\n",
    "\n",
    "tree = DecisionTreeClassifier(max_depth = 10, random_state = 42)\n",
    "tree.fit(train_x, train_y)\n",
    "tree_y_train_predict = tree.predict_proba(train_x)[:,1]\n",
    "tree_y_test_predict = tree.predict_proba(X_test)[:,1]\n",
    "tree_train_auc = metrics.roc_auc_score(train_y,tree_y_train_predict)\n",
    "tree_test_auc = metrics.roc_auc_score(y_test,tree_y_test_predict)\n",
    "print(\"Tree train AUC\")\n",
    "print(tree_train_auc)\n",
    "print(\"Tree test AUC\")\n",
    "print(tree_test_auc)"
   ]
  },
  {
   "cell_type": "markdown",
   "metadata": {},
   "source": [
    "#### RandomForest"
   ]
  },
  {
   "cell_type": "code",
   "execution_count": 45,
   "metadata": {},
   "outputs": [
    {
     "name": "stderr",
     "output_type": "stream",
     "text": [
      "/Users/tianyizhao/opt/anaconda3/lib/python3.7/site-packages/sklearn/ensemble/forest.py:245: FutureWarning: The default value of n_estimators will change from 10 in version 0.20 to 100 in 0.22.\n",
      "  \"10 in version 0.20 to 100 in 0.22.\", FutureWarning)\n"
     ]
    },
    {
     "name": "stdout",
     "output_type": "stream",
     "text": [
      "rf train AUC\n",
      "0.998083230341512\n",
      "rf test AUC\n",
      "0.9992494930943767\n"
     ]
    }
   ],
   "source": [
    "from sklearn.ensemble import RandomForestClassifier\n",
    "rf=RandomForestClassifier(max_depth = 6, random_state = 42)\n",
    "rf.fit(train_x, train_y)\n",
    "\n",
    "rf_y_train_predict =rf.predict_proba(train_x)[:,1]\n",
    "rf_y_test_predict = rf.predict_proba(X_test)[:,1]\n",
    "\n",
    "rf_train_auc = metrics.roc_auc_score(train_y,rf_y_train_predict)\n",
    "rf_test_auc = metrics.roc_auc_score(y_test,rf_y_test_predict)\n",
    "print(\"rf train AUC\")\n",
    "print(rf_train_auc)\n",
    "print(\"rf test AUC\")\n",
    "print(rf_test_auc)"
   ]
  },
  {
   "cell_type": "code",
   "execution_count": 46,
   "metadata": {},
   "outputs": [],
   "source": [
    "test_dfdf = pd.DataFrame({'ZipCode':test_zipcode,'LR':lr_y_predit2,'DT':tree_y_test_predict,'RF':rf_y_test_predict})"
   ]
  },
  {
   "cell_type": "code",
   "execution_count": 47,
   "metadata": {},
   "outputs": [],
   "source": [
    "dd1 = test_dfdf.groupby('ZipCode').sum()/test_dfdf.groupby('ZipCode').count()"
   ]
  },
  {
   "cell_type": "code",
   "execution_count": 48,
   "metadata": {},
   "outputs": [],
   "source": [
    "dd1['ZipCode'] = [str(x) for x in list(dd1.index)]"
   ]
  },
  {
   "cell_type": "code",
   "execution_count": 52,
   "metadata": {
    "scrolled": true
   },
   "outputs": [],
   "source": [
    "#dd2 = dd1.groupby('ZipCode').sum()/dd1.groupby('ZipCode').count()"
   ]
  },
  {
   "cell_type": "code",
   "execution_count": 53,
   "metadata": {},
   "outputs": [],
   "source": [
    "#dd2['ZipCode'] = [str(x) for x in list(dd2.index)]"
   ]
  },
  {
   "cell_type": "code",
   "execution_count": 78,
   "metadata": {},
   "outputs": [],
   "source": [
    "#avg_prob = dd2[['LR','DT','RF']].apply(sum,axis=1)/3"
   ]
  },
  {
   "cell_type": "code",
   "execution_count": 79,
   "metadata": {},
   "outputs": [],
   "source": [
    "#dd2['avg_prob'] = final prob"
   ]
  },
  {
   "cell_type": "code",
   "execution_count": 56,
   "metadata": {},
   "outputs": [
    {
     "name": "stderr",
     "output_type": "stream",
     "text": [
      "/Users/tianyizhao/opt/anaconda3/lib/python3.7/site-packages/ipykernel_launcher.py:1: ParserWarning: Falling back to the 'python' engine because the 'c' engine does not support regex separators (separators > 1 char and different from '\\s+' are interpreted as regex); you can avoid this warning by specifying engine='python'.\n",
      "  \"\"\"Entry point for launching an IPython kernel.\n"
     ]
    },
    {
     "data": {
      "text/plain": [
       "<bound method NDFrame.head of                        LR,RF,avg_prob,ZipCode\n",
       "0   0.989601638,0.986081925,0.987841782,90040\n",
       "1   0.983764973,0.985914263,0.984839618,92231\n",
       "2   0.980283565,0.969922269,0.975102917,07201\n",
       "3   0.945281725,0.957245505,0.951263615,08012\n",
       "4   0.931518184,0.952673691,0.942095938,19154\n",
       "..                                        ...\n",
       "60  0.000124918,0.097242697,0.048683808,29572\n",
       "61  0.000123914,0.097242697,0.048683306,34222\n",
       "62  0.000123717,0.097242697,0.048683207,37214\n",
       "63       0.00059528,3.39E-05,0.00031459,01886\n",
       "64            0.000624754,0,0.000312377,20871\n",
       "\n",
       "[65 rows x 1 columns]>"
      ]
     },
     "execution_count": 56,
     "metadata": {},
     "output_type": "execute_result"
    }
   ],
   "source": [
    "avg_prob = pd.read_csv('/Users/tianyizhao/Desktop/PUMA Dataset/final prob.csv','rb')\n",
    "avg_prob.head"
   ]
  }
 ],
 "metadata": {
  "kernelspec": {
   "display_name": "Python 3",
   "language": "python",
   "name": "python3"
  },
  "language_info": {
   "codemirror_mode": {
    "name": "ipython",
    "version": 3
   },
   "file_extension": ".py",
   "mimetype": "text/x-python",
   "name": "python",
   "nbconvert_exporter": "python",
   "pygments_lexer": "ipython3",
   "version": "3.7.4"
  }
 },
 "nbformat": 4,
 "nbformat_minor": 2
}
